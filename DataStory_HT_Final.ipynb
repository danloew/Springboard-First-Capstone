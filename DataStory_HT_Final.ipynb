{
 "cells": [
  {
   "cell_type": "markdown",
   "metadata": {},
   "source": [
    "# Targets: Using Machine Learning Classification Models to Identify Salient Predictors of Cannabis Arrests in New York City, 2006-2018"
   ]
  },
  {
   "cell_type": "markdown",
   "metadata": {},
   "source": [
    "# Statistical Data Analysis notebook"
   ]
  },
  {
   "cell_type": "code",
   "execution_count": 1,
   "metadata": {},
   "outputs": [],
   "source": [
    "import numpy as np\n",
    "import pandas as pd\n",
    "import matplotlib.pyplot as plt\n",
    "import scipy.stats\n",
    "import statsmodels\n",
    "from numpy.random import seed"
   ]
  },
  {
   "cell_type": "markdown",
   "metadata": {},
   "source": [
    "The focus of this sub-report is to run hypothesis tests on a series of null hypotheses about the likelihood of different types of cannabis arrests amongst different demographic groups. The null hypotheses will be evaluated using the t-test."
   ]
  },
  {
   "cell_type": "markdown",
   "metadata": {},
   "source": [
    "The DataFrame used in this hypothesis testing stage is a sample from the cleaned \"NYPD Complaint Data Historic\" dataset, which was downloaded from https://data.cityofnewyork.us/Public-Safety/NYPD-Complaint-Data-Historic/qgea-i56i. The data cleaning for cannabis crimes was conducted separately from all other crimes, so two .csv files are imported and subsequently concatenated."
   ]
  },
  {
   "cell_type": "code",
   "execution_count": 6,
   "metadata": {
    "scrolled": true
   },
   "outputs": [],
   "source": [
    "nyc_cann = pd.read_csv('nyc_cann_HT_sample.csv', index_col=0)"
   ]
  },
  {
   "cell_type": "code",
   "execution_count": 3,
   "metadata": {},
   "outputs": [],
   "source": [
    "nyc_non_cann = pd.read_csv('nyc_non_cann_HT_sample.csv', index_col=0)"
   ]
  },
  {
   "cell_type": "markdown",
   "metadata": {},
   "source": [
    "The two DataFrames are then concatenated together in the following cell, and the shape of each individual DataFrame and the concatenated DataFrame are called."
   ]
  },
  {
   "cell_type": "code",
   "execution_count": 8,
   "metadata": {},
   "outputs": [],
   "source": [
    "df = pd.concat([nyc_cann, nyc_non_cann], sort=True)"
   ]
  },
  {
   "cell_type": "code",
   "execution_count": 9,
   "metadata": {},
   "outputs": [
    {
     "data": {
      "text/plain": [
       "(22030, 136)"
      ]
     },
     "execution_count": 9,
     "metadata": {},
     "output_type": "execute_result"
    }
   ],
   "source": [
    "nyc_cann.shape"
   ]
  },
  {
   "cell_type": "code",
   "execution_count": 10,
   "metadata": {},
   "outputs": [
    {
     "data": {
      "text/plain": [
       "(623849, 124)"
      ]
     },
     "execution_count": 10,
     "metadata": {},
     "output_type": "execute_result"
    }
   ],
   "source": [
    "nyc_non_cann.shape"
   ]
  },
  {
   "cell_type": "code",
   "execution_count": 11,
   "metadata": {},
   "outputs": [
    {
     "data": {
      "text/plain": [
       "(645879, 136)"
      ]
     },
     "execution_count": 11,
     "metadata": {},
     "output_type": "execute_result"
    }
   ],
   "source": [
    "df.shape"
   ]
  },
  {
   "cell_type": "markdown",
   "metadata": {},
   "source": [
    "The presence of duplicate cases in the concatenated DataFrame is then checked for."
   ]
  },
  {
   "cell_type": "code",
   "execution_count": 12,
   "metadata": {},
   "outputs": [
    {
     "data": {
      "text/plain": [
       "(645879, 136)"
      ]
     },
     "execution_count": 12,
     "metadata": {},
     "output_type": "execute_result"
    }
   ],
   "source": [
    "df = df.drop_duplicates()\n",
    "df.shape"
   ]
  },
  {
   "cell_type": "markdown",
   "metadata": {},
   "source": [
    "The presence of null values is checked."
   ]
  },
  {
   "cell_type": "code",
   "execution_count": 13,
   "metadata": {},
   "outputs": [
    {
     "data": {
      "text/plain": [
       "['Unnamed: 0.1',\n",
       " 'felony',\n",
       " 'felony_poss',\n",
       " 'felony_sales',\n",
       " 'misd_poss',\n",
       " 'misd_sales',\n",
       " 'misdemeanor',\n",
       " 'possession',\n",
       " 'sales',\n",
       " 'viol_poss',\n",
       " 'viol_sales',\n",
       " 'violation']"
      ]
     },
     "execution_count": 13,
     "metadata": {},
     "output_type": "execute_result"
    }
   ],
   "source": [
    "df_nulls = list(df.columns[(df.isnull().sum()>0) | (df.isna().sum()>0)])\n",
    "df_nulls"
   ]
  },
  {
   "cell_type": "markdown",
   "metadata": {},
   "source": [
    "The features with null values are put into a list called 'fill_w_zero', and then any null values for these features are filled with zeroes."
   ]
  },
  {
   "cell_type": "code",
   "execution_count": 14,
   "metadata": {},
   "outputs": [
    {
     "data": {
      "text/plain": [
       "['Unnamed: 0.1',\n",
       " 'felony',\n",
       " 'felony_poss',\n",
       " 'felony_sales',\n",
       " 'misd_poss',\n",
       " 'misd_sales',\n",
       " 'misdemeanor',\n",
       " 'possession',\n",
       " 'sales',\n",
       " 'viol_poss',\n",
       " 'viol_sales',\n",
       " 'violation']"
      ]
     },
     "execution_count": 14,
     "metadata": {},
     "output_type": "execute_result"
    }
   ],
   "source": [
    "fill_w_zero = list(df.columns[(df.isnull().sum()>0) | (df.isna().sum()>0)])\n",
    "fill_w_zero"
   ]
  },
  {
   "cell_type": "code",
   "execution_count": 15,
   "metadata": {},
   "outputs": [],
   "source": [
    "df[fill_w_zero] = df[fill_w_zero].fillna(value=0, axis=1)"
   ]
  },
  {
   "cell_type": "code",
   "execution_count": 16,
   "metadata": {},
   "outputs": [
    {
     "data": {
      "text/plain": [
       "[]"
      ]
     },
     "execution_count": 16,
     "metadata": {},
     "output_type": "execute_result"
    }
   ],
   "source": [
    "null_recheck = list(df.columns[(df.isnull().sum()>0) | (df.isna().sum()>0)])\n",
    "null_recheck"
   ]
  },
  {
   "cell_type": "markdown",
   "metadata": {},
   "source": [
    "There are no more missing values. "
   ]
  },
  {
   "cell_type": "markdown",
   "metadata": {},
   "source": [
    "The 'cannabis_crime' feature is created here by filtering on the 'PD_CD' values for cannabis crimes for the value of '1' (cannabis crime) and '0' (non-cannabis crime)."
   ]
  },
  {
   "cell_type": "code",
   "execution_count": 17,
   "metadata": {},
   "outputs": [],
   "source": [
    "cannabis_crime = (df.PD_CD == 566.0) | (df.PD_CD == 567.0) | (df.PD_CD == 568.0) | (df.PD_CD == 569.0) | (df.PD_CD == 570.0)"
   ]
  },
  {
   "cell_type": "code",
   "execution_count": 18,
   "metadata": {},
   "outputs": [],
   "source": [
    "df['cannabis_crime'] = cannabis_crime.astype(int)"
   ]
  },
  {
   "cell_type": "markdown",
   "metadata": {},
   "source": [
    "In the sample, there are 22,030 cannabis arrests out of 623,849 NYC crimes. "
   ]
  },
  {
   "cell_type": "code",
   "execution_count": 19,
   "metadata": {
    "scrolled": true
   },
   "outputs": [
    {
     "data": {
      "text/plain": [
       "0    623849\n",
       "1     22030\n",
       "Name: cannabis_crime, dtype: int64"
      ]
     },
     "execution_count": 19,
     "metadata": {},
     "output_type": "execute_result"
    }
   ],
   "source": [
    "df['cannabis_crime'].value_counts()"
   ]
  },
  {
   "cell_type": "markdown",
   "metadata": {},
   "source": [
    "Cannabis crimes account for 3.5% of overall crimes in this sample. The cleaned total population data set of New York City crimes between 2006 and 2018 has 220,304 cannabis crimes out of 6,463,881 total crimes (or 3.5%)."
   ]
  },
  {
   "cell_type": "code",
   "execution_count": 22,
   "metadata": {},
   "outputs": [
    {
     "data": {
      "text/plain": [
       "3.5"
      ]
     },
     "execution_count": 22,
     "metadata": {},
     "output_type": "execute_result"
    }
   ],
   "source": [
    "observed_cann_pctg_s = round(round(22030/623849, 3)*100, 2)\n",
    "observed_cann_pctg_s"
   ]
  },
  {
   "cell_type": "code",
   "execution_count": 23,
   "metadata": {
    "scrolled": true
   },
   "outputs": [
    {
     "data": {
      "text/plain": [
       "3.5"
      ]
     },
     "execution_count": 23,
     "metadata": {},
     "output_type": "execute_result"
    }
   ],
   "source": [
    "observed_cann_pctg = round(round(220304/6238491, 3)*100, 2)\n",
    "observed_cann_pctg"
   ]
  },
  {
   "cell_type": "markdown",
   "metadata": {},
   "source": [
    "For ease of use in running hypothesis tests, separate DataFrames for cannabis crimes ('cann') and non-cannabis crimes ('non_cann') are created."
   ]
  },
  {
   "cell_type": "code",
   "execution_count": 26,
   "metadata": {},
   "outputs": [
    {
     "data": {
      "text/plain": [
       "22030"
      ]
     },
     "execution_count": 26,
     "metadata": {},
     "output_type": "execute_result"
    }
   ],
   "source": [
    "cann = df[df.cannabis_crime == 1]\n",
    "len(cann)"
   ]
  },
  {
   "cell_type": "code",
   "execution_count": 27,
   "metadata": {},
   "outputs": [
    {
     "data": {
      "text/plain": [
       "623849"
      ]
     },
     "execution_count": 27,
     "metadata": {},
     "output_type": "execute_result"
    }
   ],
   "source": [
    "non_cann = df[df.cannabis_crime == 0]\n",
    "len(non_cann)"
   ]
  },
  {
   "cell_type": "markdown",
   "metadata": {},
   "source": [
    "# Reported Race of Suspect: First Null Hypothesis"
   ]
  },
  {
   "cell_type": "markdown",
   "metadata": {},
   "source": [
    "The first null hypothesis states that the difference seen between the percentage of cannabis crimes where the suspect's race was reported and the percentage of non-cannabis crimes where the suspect's race was reported is due to chance and not some mediating factor."
   ]
  },
  {
   "cell_type": "markdown",
   "metadata": {},
   "source": [
    "For the cannabis crime group, the necessary statistics for running hypothesis tests are assigned to objects below. First, the N, or sample size, is assigned to 'n_cann'."
   ]
  },
  {
   "cell_type": "code",
   "execution_count": 28,
   "metadata": {},
   "outputs": [
    {
     "data": {
      "text/plain": [
       "22030"
      ]
     },
     "execution_count": 28,
     "metadata": {},
     "output_type": "execute_result"
    }
   ],
   "source": [
    "n_cann = len(cann)\n",
    "n_cann"
   ]
  },
  {
   "cell_type": "markdown",
   "metadata": {},
   "source": [
    "Second, the value counts for suspect race are assigned to 'cann_race'."
   ]
  },
  {
   "cell_type": "code",
   "execution_count": 29,
   "metadata": {
    "scrolled": false
   },
   "outputs": [
    {
     "data": {
      "text/plain": [
       "unknown                           18578\n",
       "BLACK                              1784\n",
       "WHITE HISPANIC                      924\n",
       "BLACK HISPANIC                      361\n",
       "WHITE                               293\n",
       "ASIAN / PACIFIC ISLANDER             82\n",
       "AMERICAN INDIAN/ALASKAN NATIVE        8\n",
       "Name: SUSP_RACE_cleaned, dtype: int64"
      ]
     },
     "execution_count": 29,
     "metadata": {},
     "output_type": "execute_result"
    }
   ],
   "source": [
    "cann_race = cann['SUSP_RACE_cleaned'].value_counts()\n",
    "cann_race"
   ]
  },
  {
   "cell_type": "markdown",
   "metadata": {},
   "source": [
    "A new feature named 'race_reported' is created that assigns a value of '1' for rows where the suspect's race was reported, and '0' for those rows where it was not."
   ]
  },
  {
   "cell_type": "code",
   "execution_count": 30,
   "metadata": {},
   "outputs": [],
   "source": [
    "race_reported_c = cann.SUSP_RACE_cleaned != 'unknown'"
   ]
  },
  {
   "cell_type": "code",
   "execution_count": 32,
   "metadata": {
    "scrolled": true
   },
   "outputs": [
    {
     "name": "stderr",
     "output_type": "stream",
     "text": [
      "/Users/DanLoew/anaconda3/lib/python3.7/site-packages/ipykernel_launcher.py:1: SettingWithCopyWarning: \n",
      "A value is trying to be set on a copy of a slice from a DataFrame.\n",
      "Try using .loc[row_indexer,col_indexer] = value instead\n",
      "\n",
      "See the caveats in the documentation: http://pandas.pydata.org/pandas-docs/stable/indexing.html#indexing-view-versus-copy\n",
      "  \"\"\"Entry point for launching an IPython kernel.\n"
     ]
    }
   ],
   "source": [
    "cann['race_reported'] = race_reported_c.astype(int)"
   ]
  },
  {
   "cell_type": "code",
   "execution_count": 33,
   "metadata": {
    "scrolled": true
   },
   "outputs": [
    {
     "data": {
      "text/plain": [
       "0    18578\n",
       "1     3452\n",
       "Name: race_reported, dtype: int64"
      ]
     },
     "execution_count": 33,
     "metadata": {},
     "output_type": "execute_result"
    }
   ],
   "source": [
    "cann['race_reported'].value_counts()"
   ]
  },
  {
   "cell_type": "markdown",
   "metadata": {},
   "source": [
    "As reported in previous notebooks of this project, the population percentage of cannabis crimes that do not have their suspect's race reported is 15.8%. In the sample, it is 15.7%."
   ]
  },
  {
   "cell_type": "code",
   "execution_count": 34,
   "metadata": {
    "scrolled": true
   },
   "outputs": [
    {
     "data": {
      "text/plain": [
       "0    84.3\n",
       "1    15.7\n",
       "Name: race_reported, dtype: float64"
      ]
     },
     "execution_count": 34,
     "metadata": {},
     "output_type": "execute_result"
    }
   ],
   "source": [
    "round(cann['race_reported'].value_counts(normalize=True), 3)*100"
   ]
  },
  {
   "cell_type": "markdown",
   "metadata": {},
   "source": [
    "The mean of the 'race_reported' feature is assigned to 'cann_race_reported', for use in the t-test function that will be run below."
   ]
  },
  {
   "cell_type": "code",
   "execution_count": 35,
   "metadata": {},
   "outputs": [
    {
     "data": {
      "text/plain": [
       "0.15669541534271447"
      ]
     },
     "execution_count": 35,
     "metadata": {},
     "output_type": "execute_result"
    }
   ],
   "source": [
    "cann_race_reported = np.mean(cann['race_reported'])\n",
    "cann_race_reported"
   ]
  },
  {
   "cell_type": "markdown",
   "metadata": {},
   "source": [
    "The standard deviation of the 'race_reported' feature is assigned to 'cann_std', for use in the t-test function that will be run below."
   ]
  },
  {
   "cell_type": "code",
   "execution_count": 36,
   "metadata": {},
   "outputs": [
    {
     "data": {
      "text/plain": [
       "0.3635133589750448"
      ]
     },
     "execution_count": 36,
     "metadata": {},
     "output_type": "execute_result"
    }
   ],
   "source": [
    "cann_std = np.std(cann['race_reported'])\n",
    "cann_std"
   ]
  },
  {
   "cell_type": "markdown",
   "metadata": {},
   "source": [
    "For the non-cannabis crime group, the necessary statistics for running hypothesis tests are assigned to objects below. First, the N, or sample size is assigned to 'n_cann'."
   ]
  },
  {
   "cell_type": "code",
   "execution_count": 37,
   "metadata": {},
   "outputs": [
    {
     "data": {
      "text/plain": [
       "623849"
      ]
     },
     "execution_count": 37,
     "metadata": {},
     "output_type": "execute_result"
    }
   ],
   "source": [
    "n_non_cann = len(non_cann)\n",
    "n_non_cann"
   ]
  },
  {
   "cell_type": "markdown",
   "metadata": {},
   "source": [
    "Second, the value counts for suspect race are called."
   ]
  },
  {
   "cell_type": "code",
   "execution_count": 20,
   "metadata": {
    "scrolled": false
   },
   "outputs": [
    {
     "data": {
      "text/plain": [
       "unknown                           386090\n",
       "BLACK                             119699\n",
       "WHITE HISPANIC                     54528\n",
       "WHITE                              36163\n",
       "BLACK HISPANIC                     16506\n",
       "ASIAN / PACIFIC ISLANDER           10159\n",
       "AMERICAN INDIAN/ALASKAN NATIVE       988\n",
       "Name: SUSP_RACE_cleaned, dtype: int64"
      ]
     },
     "execution_count": 20,
     "metadata": {},
     "output_type": "execute_result"
    }
   ],
   "source": [
    "non_cann['SUSP_RACE_cleaned'].value_counts()"
   ]
  },
  {
   "cell_type": "markdown",
   "metadata": {},
   "source": [
    "A new feature named 'race_reported' is created that assigns a value of '1' for rows where the suspect's race was reported, and '0' for those rows where it was not."
   ]
  },
  {
   "cell_type": "code",
   "execution_count": 38,
   "metadata": {},
   "outputs": [],
   "source": [
    "race_reported_nc = non_cann.SUSP_RACE_cleaned != 'unknown'"
   ]
  },
  {
   "cell_type": "code",
   "execution_count": 39,
   "metadata": {},
   "outputs": [
    {
     "name": "stderr",
     "output_type": "stream",
     "text": [
      "/Users/DanLoew/anaconda3/lib/python3.7/site-packages/ipykernel_launcher.py:1: SettingWithCopyWarning: \n",
      "A value is trying to be set on a copy of a slice from a DataFrame.\n",
      "Try using .loc[row_indexer,col_indexer] = value instead\n",
      "\n",
      "See the caveats in the documentation: http://pandas.pydata.org/pandas-docs/stable/indexing.html#indexing-view-versus-copy\n",
      "  \"\"\"Entry point for launching an IPython kernel.\n"
     ]
    }
   ],
   "source": [
    "non_cann['race_reported'] = race_reported_nc.astype(int)"
   ]
  },
  {
   "cell_type": "markdown",
   "metadata": {},
   "source": [
    "As reported in previous notebooks of this project, the population percentage of cannabis crimes that do not have their suspect's race reported is 38.1%. In the sample, it is 38.0%."
   ]
  },
  {
   "cell_type": "code",
   "execution_count": 40,
   "metadata": {
    "scrolled": false
   },
   "outputs": [
    {
     "data": {
      "text/plain": [
       "0    62.0\n",
       "1    38.0\n",
       "Name: race_reported, dtype: float64"
      ]
     },
     "execution_count": 40,
     "metadata": {},
     "output_type": "execute_result"
    }
   ],
   "source": [
    "round(non_cann['race_reported'].value_counts(normalize=True), 3)*100"
   ]
  },
  {
   "cell_type": "markdown",
   "metadata": {},
   "source": [
    "The mean of the 'race_reported' feature is assigned to 'non_cann_race_reported', for use in the t-test function that will be run below."
   ]
  },
  {
   "cell_type": "code",
   "execution_count": 43,
   "metadata": {},
   "outputs": [
    {
     "data": {
      "text/plain": [
       "0.38003266816168657"
      ]
     },
     "execution_count": 43,
     "metadata": {},
     "output_type": "execute_result"
    }
   ],
   "source": [
    "non_cann_race_reported = np.mean(non_cann['race_reported'])\n",
    "non_cann_race_reported"
   ]
  },
  {
   "cell_type": "markdown",
   "metadata": {},
   "source": [
    "The standard deviation of the 'race_reported' feature is assigned to 'cann_std', for use in the t-test function that will be run below."
   ]
  },
  {
   "cell_type": "code",
   "execution_count": 44,
   "metadata": {},
   "outputs": [
    {
     "data": {
      "text/plain": [
       "0.4853945192236991"
      ]
     },
     "execution_count": 44,
     "metadata": {},
     "output_type": "execute_result"
    }
   ],
   "source": [
    "non_cann_std = np.std(non_cann['race_reported'])\n",
    "non_cann_std"
   ]
  },
  {
   "cell_type": "markdown",
   "metadata": {},
   "source": [
    "The t-test is run using the mean and standard deviation of the 'race_reported' feature, along with the sample size, of the cannabis crime group and the non-cannabis crime group. The t-score is approximately 67.6 and the p-value is 0.0."
   ]
  },
  {
   "cell_type": "code",
   "execution_count": 45,
   "metadata": {
    "scrolled": true
   },
   "outputs": [
    {
     "data": {
      "text/plain": [
       "Ttest_indResult(statistic=67.62616088664134, pvalue=0.0)"
      ]
     },
     "execution_count": 45,
     "metadata": {},
     "output_type": "execute_result"
    }
   ],
   "source": [
    "scipy.stats.ttest_ind_from_stats(non_cann_race_reported, non_cann_std, n_non_cann, cann_race_reported, cann_std, n_cann)"
   ]
  },
  {
   "cell_type": "markdown",
   "metadata": {},
   "source": [
    "The first null hypothesis is rejected. Although the mediating factor is outside the scope of this analysis, one cannot say that the difference seen between the percentage of cannabis crimes where the suspect's race was reported and the percentage of non-cannabis crimes where the suspect's race was reported is due to chance."
   ]
  },
  {
   "cell_type": "markdown",
   "metadata": {},
   "source": [
    "# Likelihood of Arrest for Cannabis and Non-Cannabis Crimes for African-Americans:  Second Null Hypothesis"
   ]
  },
  {
   "cell_type": "markdown",
   "metadata": {},
   "source": [
    "The second null hypothesis states that African-Americans arrested for a crime are equally likely to be arrested for cannabis crimes as they are for non-cannabis crimes."
   ]
  },
  {
   "cell_type": "markdown",
   "metadata": {},
   "source": [
    "For the cannabis crime group, the necessary statistics for running the second hypothesis test are assigned to objects below."
   ]
  },
  {
   "cell_type": "markdown",
   "metadata": {},
   "source": [
    "First, a flag feature is created in the 'cann' DataFrame which flags those cannabis crimes which were committed by a recorded African-American suspect ('1' for African-American and '0' for not African-American)."
   ]
  },
  {
   "cell_type": "code",
   "execution_count": 46,
   "metadata": {},
   "outputs": [],
   "source": [
    "african_american_c = cann.SUSP_RACE_cleaned == 'BLACK'"
   ]
  },
  {
   "cell_type": "code",
   "execution_count": 47,
   "metadata": {
    "scrolled": false
   },
   "outputs": [
    {
     "name": "stderr",
     "output_type": "stream",
     "text": [
      "/Users/DanLoew/anaconda3/lib/python3.7/site-packages/ipykernel_launcher.py:1: SettingWithCopyWarning: \n",
      "A value is trying to be set on a copy of a slice from a DataFrame.\n",
      "Try using .loc[row_indexer,col_indexer] = value instead\n",
      "\n",
      "See the caveats in the documentation: http://pandas.pydata.org/pandas-docs/stable/indexing.html#indexing-view-versus-copy\n",
      "  \"\"\"Entry point for launching an IPython kernel.\n"
     ]
    }
   ],
   "source": [
    "cann['african_american'] = african_american_c.astype(int)"
   ]
  },
  {
   "cell_type": "markdown",
   "metadata": {},
   "source": [
    "There are 1,764 cannabis crimes with a recorded African-American suspect."
   ]
  },
  {
   "cell_type": "code",
   "execution_count": 48,
   "metadata": {
    "scrolled": false
   },
   "outputs": [
    {
     "data": {
      "text/plain": [
       "0    20246\n",
       "1     1784\n",
       "Name: african_american, dtype: int64"
      ]
     },
     "execution_count": 48,
     "metadata": {},
     "output_type": "execute_result"
    }
   ],
   "source": [
    "cann['african_american'].value_counts()"
   ]
  },
  {
   "cell_type": "markdown",
   "metadata": {},
   "source": [
    "The mean of the 'african_american' feature is assigned to 'cann_af_am', for use in the t-test function that will be run below."
   ]
  },
  {
   "cell_type": "code",
   "execution_count": 49,
   "metadata": {
    "scrolled": true
   },
   "outputs": [
    {
     "data": {
      "text/plain": [
       "0.08098048116205175"
      ]
     },
     "execution_count": 49,
     "metadata": {},
     "output_type": "execute_result"
    }
   ],
   "source": [
    "cann_af_am = np.mean(cann['african_american'])\n",
    "cann_af_am"
   ]
  },
  {
   "cell_type": "markdown",
   "metadata": {},
   "source": [
    "The standard deviation of the 'african_american' feature is assigned to 'cann_af_am_std', for use in the t-test function that will be run below."
   ]
  },
  {
   "cell_type": "code",
   "execution_count": 50,
   "metadata": {},
   "outputs": [
    {
     "data": {
      "text/plain": [
       "0.2728051371085288"
      ]
     },
     "execution_count": 50,
     "metadata": {},
     "output_type": "execute_result"
    }
   ],
   "source": [
    "cann_af_am_std = np.std(cann['african_american'])\n",
    "cann_af_am_std"
   ]
  },
  {
   "cell_type": "markdown",
   "metadata": {},
   "source": [
    "A flag feature is created in the 'non_cann' DataFrame which flags those non-cannabis crimes which were committed by a recorded African-American suspect ('1' for African-American and '0' for not African-American)."
   ]
  },
  {
   "cell_type": "code",
   "execution_count": 51,
   "metadata": {},
   "outputs": [],
   "source": [
    "african_american_nc = non_cann.SUSP_RACE_cleaned == 'BLACK'"
   ]
  },
  {
   "cell_type": "code",
   "execution_count": 52,
   "metadata": {},
   "outputs": [
    {
     "name": "stderr",
     "output_type": "stream",
     "text": [
      "/Users/DanLoew/anaconda3/lib/python3.7/site-packages/ipykernel_launcher.py:1: SettingWithCopyWarning: \n",
      "A value is trying to be set on a copy of a slice from a DataFrame.\n",
      "Try using .loc[row_indexer,col_indexer] = value instead\n",
      "\n",
      "See the caveats in the documentation: http://pandas.pydata.org/pandas-docs/stable/indexing.html#indexing-view-versus-copy\n",
      "  \"\"\"Entry point for launching an IPython kernel.\n"
     ]
    }
   ],
   "source": [
    "non_cann['african_american'] = african_american_nc.astype(int)"
   ]
  },
  {
   "cell_type": "markdown",
   "metadata": {},
   "source": [
    "There are 119,377 non-cannabis crimes with a recorded African-American suspect."
   ]
  },
  {
   "cell_type": "code",
   "execution_count": 53,
   "metadata": {},
   "outputs": [
    {
     "data": {
      "text/plain": [
       "0    504472\n",
       "1    119377\n",
       "Name: african_american, dtype: int64"
      ]
     },
     "execution_count": 53,
     "metadata": {},
     "output_type": "execute_result"
    }
   ],
   "source": [
    "non_cann['african_american'].value_counts()"
   ]
  },
  {
   "cell_type": "markdown",
   "metadata": {},
   "source": [
    "The mean of the 'african_american' feature is assigned to 'non_cann_af_am', for use in the t-test function that will be run below."
   ]
  },
  {
   "cell_type": "code",
   "execution_count": 54,
   "metadata": {},
   "outputs": [
    {
     "data": {
      "text/plain": [
       "0.1913556004738326"
      ]
     },
     "execution_count": 54,
     "metadata": {},
     "output_type": "execute_result"
    }
   ],
   "source": [
    "non_cann_af_am = np.mean(non_cann['african_american'])\n",
    "non_cann_af_am"
   ]
  },
  {
   "cell_type": "markdown",
   "metadata": {},
   "source": [
    "The standard deviation of the 'african_american' feature is assigned to 'non_cann_af_am_std', for use in the t-test function that will be run below."
   ]
  },
  {
   "cell_type": "code",
   "execution_count": 55,
   "metadata": {},
   "outputs": [
    {
     "data": {
      "text/plain": [
       "0.39336831931663324"
      ]
     },
     "execution_count": 55,
     "metadata": {},
     "output_type": "execute_result"
    }
   ],
   "source": [
    "non_cann_af_am_std = np.std(non_cann['african_american'])\n",
    "non_cann_af_am_std"
   ]
  },
  {
   "cell_type": "markdown",
   "metadata": {},
   "source": [
    "The t-test is run using the mean and standard deviation of the 'african_american' feature, along with the sample size, of the cannabis crime group and the non-cannabis crime group. The t-score is approximately 41.3 and the p-value is 0.0."
   ]
  },
  {
   "cell_type": "code",
   "execution_count": 56,
   "metadata": {
    "scrolled": true
   },
   "outputs": [
    {
     "data": {
      "text/plain": [
       "Ttest_indResult(statistic=41.29731509436323, pvalue=0.0)"
      ]
     },
     "execution_count": 56,
     "metadata": {},
     "output_type": "execute_result"
    }
   ],
   "source": [
    "scipy.stats.ttest_ind_from_stats(non_cann_af_am, non_cann_af_am_std, n_non_cann, cann_af_am, cann_af_am_std, n_cann)"
   ]
  },
  {
   "cell_type": "markdown",
   "metadata": {},
   "source": [
    "The second null hypothesis is rejected. African-Americans arrested for a crime are NOT equally likely to be arrested for cannabis crimes as they are for non-cannabis crimes."
   ]
  },
  {
   "cell_type": "markdown",
   "metadata": {},
   "source": [
    "# Likelihood of Arrest for Cannabis and Non-Cannabis Crimes for African-Americans (re-run on crimes with the suspect's race reported): Third Null Hypothesis"
   ]
  },
  {
   "cell_type": "markdown",
   "metadata": {},
   "source": [
    "The third null hypothesis states that African-Americans arrested for a crime are equally likely to be arrested for cannabis crimes as they are for non_cannabis crimes. This null hypothesis will be tested with the sample of NYC crimes with the suspect's race reported. This null hypothesis is conducted as an exploratory test, and may be spurious because all the crimes where the suspect's race was not recorded were not included."
   ]
  },
  {
   "cell_type": "markdown",
   "metadata": {},
   "source": [
    "A DataFrame of crimes where the suspect's race was reported is first subsetted from the 'df', the 10% sample of all cannabis and non-cannabis crimes. It's length is called."
   ]
  },
  {
   "cell_type": "code",
   "execution_count": 57,
   "metadata": {},
   "outputs": [],
   "source": [
    "nyc_rr = df[df.SUSP_RACE_cleaned != 'unknown']"
   ]
  },
  {
   "cell_type": "code",
   "execution_count": 58,
   "metadata": {},
   "outputs": [
    {
     "data": {
      "text/plain": [
       "240535"
      ]
     },
     "execution_count": 58,
     "metadata": {},
     "output_type": "execute_result"
    }
   ],
   "source": [
    "len(nyc_rr)"
   ]
  },
  {
   "cell_type": "markdown",
   "metadata": {},
   "source": [
    "For ease of use in running hypothesis tests on just the crimes with the suspect's race recorded, separate DataFrames for cannabis crimes ('cann_rr') and non-cannabis crimes ('non_cann_rr') are created."
   ]
  },
  {
   "cell_type": "code",
   "execution_count": 59,
   "metadata": {},
   "outputs": [],
   "source": [
    "cann_rr = nyc_rr[nyc_rr.cannabis_crime == 1]"
   ]
  },
  {
   "cell_type": "code",
   "execution_count": 60,
   "metadata": {},
   "outputs": [],
   "source": [
    "non_cann_rr = nyc_rr[nyc_rr.cannabis_crime == 0]"
   ]
  },
  {
   "cell_type": "markdown",
   "metadata": {},
   "source": [
    "First, the N of the group of cannabis crimes whose suspect's race was recorded is assigned to 'n_cann_rr’."
   ]
  },
  {
   "cell_type": "code",
   "execution_count": 61,
   "metadata": {},
   "outputs": [
    {
     "data": {
      "text/plain": [
       "3452"
      ]
     },
     "execution_count": 61,
     "metadata": {},
     "output_type": "execute_result"
    }
   ],
   "source": [
    "n_cann_rr = len(cann_rr)\n",
    "n_cann_rr"
   ]
  },
  {
   "cell_type": "markdown",
   "metadata": {},
   "source": [
    "Second, the N of the group of non-cannabis crimes whose suspect's race was recorded is assigned to 'n_non_cann_rr’."
   ]
  },
  {
   "cell_type": "code",
   "execution_count": 62,
   "metadata": {},
   "outputs": [
    {
     "data": {
      "text/plain": [
       "237083"
      ]
     },
     "execution_count": 62,
     "metadata": {},
     "output_type": "execute_result"
    }
   ],
   "source": [
    "n_non_cann_rr = len(non_cann_rr)\n",
    "n_non_cann_rr"
   ]
  },
  {
   "cell_type": "markdown",
   "metadata": {},
   "source": [
    "The value counts for 'SUSP_RACE_cleaned' are called for cannabis crimes where the suspect's race was reported."
   ]
  },
  {
   "cell_type": "code",
   "execution_count": 63,
   "metadata": {},
   "outputs": [
    {
     "data": {
      "text/plain": [
       "BLACK                             1784\n",
       "WHITE HISPANIC                     924\n",
       "BLACK HISPANIC                     361\n",
       "WHITE                              293\n",
       "ASIAN / PACIFIC ISLANDER            82\n",
       "AMERICAN INDIAN/ALASKAN NATIVE       8\n",
       "Name: SUSP_RACE_cleaned, dtype: int64"
      ]
     },
     "execution_count": 63,
     "metadata": {},
     "output_type": "execute_result"
    }
   ],
   "source": [
    "cann_rr['SUSP_RACE_cleaned'].value_counts()"
   ]
  },
  {
   "cell_type": "markdown",
   "metadata": {},
   "source": [
    "First, a flag feature is created in the 'cann_rr' DataFrame which flags those cannabis crimes which were committed by a recorded African-American suspect ('1' for African-American and '0' for not African-American)."
   ]
  },
  {
   "cell_type": "code",
   "execution_count": 64,
   "metadata": {},
   "outputs": [],
   "source": [
    "african_american_c_rr = cann_rr.SUSP_RACE_cleaned == 'BLACK'"
   ]
  },
  {
   "cell_type": "code",
   "execution_count": 65,
   "metadata": {
    "collapsed": true
   },
   "outputs": [
    {
     "name": "stderr",
     "output_type": "stream",
     "text": [
      "/Users/DanLoew/anaconda3/lib/python3.7/site-packages/ipykernel_launcher.py:1: SettingWithCopyWarning: \n",
      "A value is trying to be set on a copy of a slice from a DataFrame.\n",
      "Try using .loc[row_indexer,col_indexer] = value instead\n",
      "\n",
      "See the caveats in the documentation: http://pandas.pydata.org/pandas-docs/stable/indexing.html#indexing-view-versus-copy\n",
      "  \"\"\"Entry point for launching an IPython kernel.\n"
     ]
    }
   ],
   "source": [
    "cann_rr['af_am'] = african_american_c_rr.astype(int)"
   ]
  },
  {
   "cell_type": "code",
   "execution_count": 66,
   "metadata": {
    "scrolled": true
   },
   "outputs": [
    {
     "data": {
      "text/plain": [
       "1    1784\n",
       "0    1668\n",
       "Name: af_am, dtype: int64"
      ]
     },
     "execution_count": 66,
     "metadata": {},
     "output_type": "execute_result"
    }
   ],
   "source": [
    "cann_rr['af_am'].value_counts()"
   ]
  },
  {
   "cell_type": "markdown",
   "metadata": {},
   "source": [
    "The mean of the 'af_am' feature is assigned to 'cann_af_am_rr', for use in the t-test function that will be run below."
   ]
  },
  {
   "cell_type": "code",
   "execution_count": 67,
   "metadata": {},
   "outputs": [
    {
     "data": {
      "text/plain": [
       "0.5168018539976825"
      ]
     },
     "execution_count": 67,
     "metadata": {},
     "output_type": "execute_result"
    }
   ],
   "source": [
    "cann_af_am_rr = np.mean(cann_rr['af_am'])\n",
    "cann_af_am_rr"
   ]
  },
  {
   "cell_type": "markdown",
   "metadata": {},
   "source": [
    "The standard deviation of the 'af_am' feature is assigned to 'cann_af_am_rr_std', for use in the t-test function that will be run below."
   ]
  },
  {
   "cell_type": "code",
   "execution_count": 68,
   "metadata": {},
   "outputs": [
    {
     "data": {
      "text/plain": [
       "0.4997176179626278"
      ]
     },
     "execution_count": 68,
     "metadata": {},
     "output_type": "execute_result"
    }
   ],
   "source": [
    "cann_af_am_rr_std = np.std(cann_rr['af_am'])\n",
    "cann_af_am_rr_std"
   ]
  },
  {
   "cell_type": "markdown",
   "metadata": {},
   "source": [
    "The value counts for 'SUSP_RACE_cleaned' are called for non-cannabis crimes where the suspect's race was reported."
   ]
  },
  {
   "cell_type": "code",
   "execution_count": 69,
   "metadata": {},
   "outputs": [
    {
     "data": {
      "text/plain": [
       "BLACK                             119377\n",
       "WHITE HISPANIC                     54579\n",
       "WHITE                              35661\n",
       "BLACK HISPANIC                     16256\n",
       "ASIAN / PACIFIC ISLANDER           10211\n",
       "AMERICAN INDIAN/ALASKAN NATIVE       999\n",
       "Name: SUSP_RACE_cleaned, dtype: int64"
      ]
     },
     "execution_count": 69,
     "metadata": {},
     "output_type": "execute_result"
    }
   ],
   "source": [
    "non_cann_rr['SUSP_RACE_cleaned'].value_counts()"
   ]
  },
  {
   "cell_type": "markdown",
   "metadata": {},
   "source": [
    "A flag feature is created in the 'non_cann_rr' DataFrame which flags those non-cannabis crimes which were committed by a recorded African-American suspect ('1' for African-American and '0' for not African-American)."
   ]
  },
  {
   "cell_type": "code",
   "execution_count": 70,
   "metadata": {},
   "outputs": [],
   "source": [
    "african_american_nc_rr = non_cann_rr.SUSP_RACE_cleaned == 'BLACK'"
   ]
  },
  {
   "cell_type": "code",
   "execution_count": 71,
   "metadata": {
    "collapsed": true
   },
   "outputs": [
    {
     "name": "stderr",
     "output_type": "stream",
     "text": [
      "/Users/DanLoew/anaconda3/lib/python3.7/site-packages/ipykernel_launcher.py:1: SettingWithCopyWarning: \n",
      "A value is trying to be set on a copy of a slice from a DataFrame.\n",
      "Try using .loc[row_indexer,col_indexer] = value instead\n",
      "\n",
      "See the caveats in the documentation: http://pandas.pydata.org/pandas-docs/stable/indexing.html#indexing-view-versus-copy\n",
      "  \"\"\"Entry point for launching an IPython kernel.\n"
     ]
    }
   ],
   "source": [
    "non_cann_rr['af_am'] = african_american_nc_rr.astype(int)"
   ]
  },
  {
   "cell_type": "code",
   "execution_count": 72,
   "metadata": {
    "scrolled": true
   },
   "outputs": [
    {
     "data": {
      "text/plain": [
       "1    119377\n",
       "0    117706\n",
       "Name: af_am, dtype: int64"
      ]
     },
     "execution_count": 72,
     "metadata": {},
     "output_type": "execute_result"
    }
   ],
   "source": [
    "non_cann_rr['af_am'].value_counts()"
   ]
  },
  {
   "cell_type": "markdown",
   "metadata": {},
   "source": [
    "The mean of the 'af_am' feature is assigned to 'non_cann_af_am_rr', for use in the t-test function that will be run below."
   ]
  },
  {
   "cell_type": "code",
   "execution_count": 73,
   "metadata": {},
   "outputs": [
    {
     "data": {
      "text/plain": [
       "0.5035240822834197"
      ]
     },
     "execution_count": 73,
     "metadata": {},
     "output_type": "execute_result"
    }
   ],
   "source": [
    "non_cann_af_am_rr = np.mean(non_cann_rr['af_am'])\n",
    "non_cann_af_am_rr"
   ]
  },
  {
   "cell_type": "markdown",
   "metadata": {},
   "source": [
    "The standard deviation of the 'af_am' feature is assigned to 'non_cann_af_am_rr_std', for use in the t-test function that will be run below."
   ]
  },
  {
   "cell_type": "code",
   "execution_count": 74,
   "metadata": {},
   "outputs": [
    {
     "data": {
      "text/plain": [
       "0.4999875806908565"
      ]
     },
     "execution_count": 74,
     "metadata": {},
     "output_type": "execute_result"
    }
   ],
   "source": [
    "non_cann_af_am_rr_std = np.std(non_cann_rr['af_am'])\n",
    "non_cann_af_am_rr_std"
   ]
  },
  {
   "cell_type": "markdown",
   "metadata": {},
   "source": [
    "The t-test is run using the mean and standard deviation of the 'af_am' feature, along with the sample size, of the cannabis crime group and the non-cannabis crime group where the suspect's race was reported. The t-score is approximately -1.54 and the p-value is 0.12."
   ]
  },
  {
   "cell_type": "code",
   "execution_count": 75,
   "metadata": {},
   "outputs": [
    {
     "data": {
      "text/plain": [
       "Ttest_indResult(statistic=-1.5490513161568045, pvalue=0.12137070030085367)"
      ]
     },
     "execution_count": 75,
     "metadata": {},
     "output_type": "execute_result"
    }
   ],
   "source": [
    "scipy.stats.ttest_ind_from_stats(non_cann_af_am_rr, non_cann_af_am_rr_std, n_non_cann_rr, cann_af_am_rr, cann_af_am_rr_std, n_cann_rr)"
   ]
  },
  {
   "cell_type": "markdown",
   "metadata": {},
   "source": [
    "The p-value in this t-test is 0.12, well above 0.05. So in this separate sample of NYC crimes where the race was reported, the third null hypothesis that African-Americans arrested for a crime are equally likely to be arrested for cannabis crimes as they are for non-cannabis crimes is NOT rejected."
   ]
  },
  {
   "cell_type": "markdown",
   "metadata": {},
   "source": [
    "# Likelihood of Arrest for Cannabis and Non-Cannabis Crimes for Whites:  Fourth Null Hypothesis"
   ]
  },
  {
   "cell_type": "markdown",
   "metadata": {},
   "source": [
    "The fourth null hypothesis states that Whites arrested for a crime are equally likely to be arrested for cannabis crimes as they are for non-cannabis crimes."
   ]
  },
  {
   "cell_type": "markdown",
   "metadata": {},
   "source": [
    "First, a flag feature is created in the 'cann' DataFrame which flags those cannabis crimes which were committed by a recorded White suspect ('1' for White and '0' for not White)."
   ]
  },
  {
   "cell_type": "code",
   "execution_count": 76,
   "metadata": {
    "collapsed": true
   },
   "outputs": [
    {
     "name": "stderr",
     "output_type": "stream",
     "text": [
      "/Users/DanLoew/anaconda3/lib/python3.7/site-packages/ipykernel_launcher.py:2: SettingWithCopyWarning: \n",
      "A value is trying to be set on a copy of a slice from a DataFrame.\n",
      "Try using .loc[row_indexer,col_indexer] = value instead\n",
      "\n",
      "See the caveats in the documentation: http://pandas.pydata.org/pandas-docs/stable/indexing.html#indexing-view-versus-copy\n",
      "  \n"
     ]
    }
   ],
   "source": [
    "whites_c = cann.SUSP_RACE_cleaned == 'WHITE'\n",
    "cann['white'] = whites_c.astype(int)"
   ]
  },
  {
   "cell_type": "markdown",
   "metadata": {},
   "source": [
    "There are 293 cannabis crimes with a recorded White suspect."
   ]
  },
  {
   "cell_type": "code",
   "execution_count": 77,
   "metadata": {
    "scrolled": true
   },
   "outputs": [
    {
     "data": {
      "text/plain": [
       "0    21737\n",
       "1      293\n",
       "Name: white, dtype: int64"
      ]
     },
     "execution_count": 77,
     "metadata": {},
     "output_type": "execute_result"
    }
   ],
   "source": [
    "cann['white'].value_counts()"
   ]
  },
  {
   "cell_type": "markdown",
   "metadata": {},
   "source": [
    "The mean of the 'white' feature is assigned to 'cann_white', for use in the t-test function that will be run below."
   ]
  },
  {
   "cell_type": "code",
   "execution_count": 78,
   "metadata": {},
   "outputs": [
    {
     "data": {
      "text/plain": [
       "0.013300045392646391"
      ]
     },
     "execution_count": 78,
     "metadata": {},
     "output_type": "execute_result"
    }
   ],
   "source": [
    "cann_white = np.mean(cann['white'])\n",
    "cann_white"
   ]
  },
  {
   "cell_type": "markdown",
   "metadata": {},
   "source": [
    "The standard deviation of the 'white' feature is assigned to 'cann_white_std', for use in the t-test function that will be run below."
   ]
  },
  {
   "cell_type": "code",
   "execution_count": 79,
   "metadata": {},
   "outputs": [
    {
     "data": {
      "text/plain": [
       "0.11455633629441452"
      ]
     },
     "execution_count": 79,
     "metadata": {},
     "output_type": "execute_result"
    }
   ],
   "source": [
    "cann_white_std = np.std(cann['white'])\n",
    "cann_white_std"
   ]
  },
  {
   "cell_type": "markdown",
   "metadata": {},
   "source": [
    "A flag feature is created in the 'non_cann' DataFrame which flags those non-cannabis crimes which were committed by a recorded White suspect ('1' for White and '0' for not White)."
   ]
  },
  {
   "cell_type": "code",
   "execution_count": 80,
   "metadata": {
    "collapsed": true
   },
   "outputs": [
    {
     "name": "stderr",
     "output_type": "stream",
     "text": [
      "/Users/DanLoew/anaconda3/lib/python3.7/site-packages/ipykernel_launcher.py:2: SettingWithCopyWarning: \n",
      "A value is trying to be set on a copy of a slice from a DataFrame.\n",
      "Try using .loc[row_indexer,col_indexer] = value instead\n",
      "\n",
      "See the caveats in the documentation: http://pandas.pydata.org/pandas-docs/stable/indexing.html#indexing-view-versus-copy\n",
      "  \n"
     ]
    }
   ],
   "source": [
    "whites_nc = non_cann.SUSP_RACE_cleaned == 'WHITE'\n",
    "non_cann['white'] = whites_nc.astype(int)"
   ]
  },
  {
   "cell_type": "markdown",
   "metadata": {},
   "source": [
    "There are 35,661 non-cannabis crimes with a recorded White suspect."
   ]
  },
  {
   "cell_type": "code",
   "execution_count": 81,
   "metadata": {
    "scrolled": false
   },
   "outputs": [
    {
     "data": {
      "text/plain": [
       "0    588188\n",
       "1     35661\n",
       "Name: white, dtype: int64"
      ]
     },
     "execution_count": 81,
     "metadata": {},
     "output_type": "execute_result"
    }
   ],
   "source": [
    "non_cann['white'].value_counts()"
   ]
  },
  {
   "cell_type": "markdown",
   "metadata": {},
   "source": [
    "The mean of the 'white' feature is assigned to 'non_cann_white', for use in the t-test function that will be run below."
   ]
  },
  {
   "cell_type": "code",
   "execution_count": 82,
   "metadata": {},
   "outputs": [
    {
     "data": {
      "text/plain": [
       "0.05716287114349786"
      ]
     },
     "execution_count": 82,
     "metadata": {},
     "output_type": "execute_result"
    }
   ],
   "source": [
    "non_cann_white = np.mean(non_cann['white'])\n",
    "non_cann_white"
   ]
  },
  {
   "cell_type": "markdown",
   "metadata": {},
   "source": [
    "The standard deviation of the 'white' feature is assigned to 'non_cann_white_std', for use in the t-test function that will be run below."
   ]
  },
  {
   "cell_type": "code",
   "execution_count": 83,
   "metadata": {},
   "outputs": [
    {
     "data": {
      "text/plain": [
       "0.23215356406192092"
      ]
     },
     "execution_count": 83,
     "metadata": {},
     "output_type": "execute_result"
    }
   ],
   "source": [
    "non_cann_white_std = np.std(non_cann['white'])\n",
    "non_cann_white_std"
   ]
  },
  {
   "cell_type": "markdown",
   "metadata": {},
   "source": [
    "The t-test is run using the mean and standard deviation of the 'white' feature, along with the sample size, of the cannabis crime group and the non-cannabis crime group. The t-score is approximately 27.9 and the p-value is approximately 1.8e-171, not zero like with African-Americans but still an infinitesimally small p-value."
   ]
  },
  {
   "cell_type": "code",
   "execution_count": 84,
   "metadata": {
    "scrolled": false
   },
   "outputs": [
    {
     "data": {
      "text/plain": [
       "Ttest_indResult(statistic=27.92345147365235, pvalue=1.7536178040202593e-171)"
      ]
     },
     "execution_count": 84,
     "metadata": {},
     "output_type": "execute_result"
    }
   ],
   "source": [
    "scipy.stats.ttest_ind_from_stats(non_cann_white, non_cann_white_std, n_non_cann, cann_white, cann_white_std, n_cann)"
   ]
  },
  {
   "cell_type": "markdown",
   "metadata": {},
   "source": [
    "The fourth null hypothesis is rejected. Whites arrested for a crime are NOT equally likely to be arrested for cannabis crimes as they are for non-cannabis crimes."
   ]
  },
  {
   "cell_type": "markdown",
   "metadata": {},
   "source": [
    "# Likelihood of Arrest for Cannabis and Non-Cannabis Crimes for Hispanic Whites:  Fifth Null Hypothesis"
   ]
  },
  {
   "cell_type": "markdown",
   "metadata": {},
   "source": [
    "The fifth null hypothesis states that Hispanic Whites arrested for a crime are equally likely to be arrested for cannabis crimes as they are for non-cannabis crimes."
   ]
  },
  {
   "cell_type": "markdown",
   "metadata": {},
   "source": [
    "First, a flag feature is created in the 'cann' DataFrame which flags those cannabis crimes which were committed by a recorded Hispanic White suspect ('1' for Hispanic White and '0' for not Hispanic White)."
   ]
  },
  {
   "cell_type": "code",
   "execution_count": 85,
   "metadata": {
    "collapsed": true
   },
   "outputs": [
    {
     "name": "stderr",
     "output_type": "stream",
     "text": [
      "/Users/DanLoew/anaconda3/lib/python3.7/site-packages/ipykernel_launcher.py:2: SettingWithCopyWarning: \n",
      "A value is trying to be set on a copy of a slice from a DataFrame.\n",
      "Try using .loc[row_indexer,col_indexer] = value instead\n",
      "\n",
      "See the caveats in the documentation: http://pandas.pydata.org/pandas-docs/stable/indexing.html#indexing-view-versus-copy\n",
      "  \n"
     ]
    }
   ],
   "source": [
    "hisp_whites_c = cann.SUSP_RACE_cleaned == 'WHITE HISPANIC'\n",
    "cann['hisp_whites'] = hisp_whites_c.astype(int)"
   ]
  },
  {
   "cell_type": "markdown",
   "metadata": {},
   "source": [
    "There are 924 cannabis crimes with a recorded Hispanic White suspect."
   ]
  },
  {
   "cell_type": "code",
   "execution_count": 86,
   "metadata": {
    "scrolled": true
   },
   "outputs": [
    {
     "data": {
      "text/plain": [
       "0    21106\n",
       "1      924\n",
       "Name: hisp_whites, dtype: int64"
      ]
     },
     "execution_count": 86,
     "metadata": {},
     "output_type": "execute_result"
    }
   ],
   "source": [
    "cann['hisp_whites'].value_counts()"
   ]
  },
  {
   "cell_type": "markdown",
   "metadata": {},
   "source": [
    "The mean of the 'hisp_whites' feature is assigned to 'cann_hisp_whites', for use in the t-test function that will be run below."
   ]
  },
  {
   "cell_type": "code",
   "execution_count": 87,
   "metadata": {},
   "outputs": [
    {
     "data": {
      "text/plain": [
       "0.04194280526554698"
      ]
     },
     "execution_count": 87,
     "metadata": {},
     "output_type": "execute_result"
    }
   ],
   "source": [
    "cann_hisp_whites = np.mean(cann['hisp_whites'])\n",
    "cann_hisp_whites"
   ]
  },
  {
   "cell_type": "markdown",
   "metadata": {},
   "source": [
    "The standard deviation of the 'hisp_whites' feature is assigned to 'cann_hisp_whites_std', for use in the t-test function that will be run below."
   ]
  },
  {
   "cell_type": "code",
   "execution_count": 88,
   "metadata": {},
   "outputs": [
    {
     "data": {
      "text/plain": [
       "0.2004584903464932"
      ]
     },
     "execution_count": 88,
     "metadata": {},
     "output_type": "execute_result"
    }
   ],
   "source": [
    "cann_hisp_whites_std = np.std(cann['hisp_whites'])\n",
    "cann_hisp_whites_std"
   ]
  },
  {
   "cell_type": "markdown",
   "metadata": {},
   "source": [
    "A flag feature is created in the 'non_cann' DataFrame which flags those non-cannabis crimes which were committed by a recorded Hispanic White suspect ('1' for Hispanic White and '0' for not Hispanic White)."
   ]
  },
  {
   "cell_type": "code",
   "execution_count": 89,
   "metadata": {
    "collapsed": true
   },
   "outputs": [
    {
     "name": "stderr",
     "output_type": "stream",
     "text": [
      "/Users/DanLoew/anaconda3/lib/python3.7/site-packages/ipykernel_launcher.py:2: SettingWithCopyWarning: \n",
      "A value is trying to be set on a copy of a slice from a DataFrame.\n",
      "Try using .loc[row_indexer,col_indexer] = value instead\n",
      "\n",
      "See the caveats in the documentation: http://pandas.pydata.org/pandas-docs/stable/indexing.html#indexing-view-versus-copy\n",
      "  \n"
     ]
    }
   ],
   "source": [
    "hisp_whites_nc = non_cann.SUSP_RACE_cleaned == 'WHITE HISPANIC'\n",
    "non_cann['hisp_whites'] = hisp_whites_nc.astype(int)"
   ]
  },
  {
   "cell_type": "markdown",
   "metadata": {},
   "source": [
    "There are 54,579 non-cannabis crimes with a recorded African-American suspect."
   ]
  },
  {
   "cell_type": "code",
   "execution_count": 90,
   "metadata": {
    "scrolled": false
   },
   "outputs": [
    {
     "data": {
      "text/plain": [
       "0    569270\n",
       "1     54579\n",
       "Name: hisp_whites, dtype: int64"
      ]
     },
     "execution_count": 90,
     "metadata": {},
     "output_type": "execute_result"
    }
   ],
   "source": [
    "non_cann['hisp_whites'].value_counts()"
   ]
  },
  {
   "cell_type": "markdown",
   "metadata": {},
   "source": [
    "The mean of the 'hisp_whites' feature is assigned to 'non_cann_hisp_whites', for use in the t-test function that will be run below."
   ]
  },
  {
   "cell_type": "code",
   "execution_count": 91,
   "metadata": {},
   "outputs": [
    {
     "data": {
      "text/plain": [
       "0.08748751701132806"
      ]
     },
     "execution_count": 91,
     "metadata": {},
     "output_type": "execute_result"
    }
   ],
   "source": [
    "non_cann_hisp_whites = np.mean(non_cann['hisp_whites'])\n",
    "non_cann_hisp_whites"
   ]
  },
  {
   "cell_type": "markdown",
   "metadata": {},
   "source": [
    "The standard deviation of the 'hisp_whites' feature is assigned to 'non_cann_hisp_whites_std', for use in the t-test function that will be run below."
   ]
  },
  {
   "cell_type": "code",
   "execution_count": 92,
   "metadata": {},
   "outputs": [
    {
     "data": {
      "text/plain": [
       "0.28254813993038513"
      ]
     },
     "execution_count": 92,
     "metadata": {},
     "output_type": "execute_result"
    }
   ],
   "source": [
    "non_cann_hisp_whites_std = np.std(non_cann['hisp_whites'])\n",
    "non_cann_hisp_whites_std"
   ]
  },
  {
   "cell_type": "markdown",
   "metadata": {},
   "source": [
    "The t-test is run using the mean and standard deviation of the 'hisp_whites' feature, along with the sample size, of the cannabis crime group and the non-cannabis crime group. The t-score is approximately 23.7 and the p-value is 2.8e-124."
   ]
  },
  {
   "cell_type": "code",
   "execution_count": 93,
   "metadata": {
    "scrolled": true
   },
   "outputs": [
    {
     "data": {
      "text/plain": [
       "Ttest_indResult(statistic=23.71520037603833, pvalue=2.8414252698367278e-124)"
      ]
     },
     "execution_count": 93,
     "metadata": {},
     "output_type": "execute_result"
    }
   ],
   "source": [
    "scipy.stats.ttest_ind_from_stats(non_cann_hisp_whites, non_cann_hisp_whites_std, n_non_cann, cann_hisp_whites, cann_hisp_whites_std, n_cann)"
   ]
  },
  {
   "cell_type": "markdown",
   "metadata": {},
   "source": [
    "The fifth null hypothesis is rejected at a very low p-value. Hispanic Whites arrested for a crime are NOT equally likely to be arrested for cannabis crimes as they are for non-cannabis crimes."
   ]
  },
  {
   "cell_type": "markdown",
   "metadata": {},
   "source": [
    "# Likelihood of Arrest for Cannabis and Non-Cannabis Crimes for Hispanic Blacks:  Sixth Null Hypothesis"
   ]
  },
  {
   "cell_type": "markdown",
   "metadata": {},
   "source": [
    "The sixth null hypothesis states that Hispanic Blacks arrested for a crime are equally likely to be arrested for cannabis crimes as they are for non-cannabis crimes."
   ]
  },
  {
   "cell_type": "markdown",
   "metadata": {},
   "source": [
    "First, a flag feature is created in the 'cann' DataFrame which flags those cannabis crimes which were committed by a recorded Hispanic Black suspect ('1' for Hispanic Black and '0' for not Hispanic Black)."
   ]
  },
  {
   "cell_type": "code",
   "execution_count": 94,
   "metadata": {
    "collapsed": true
   },
   "outputs": [
    {
     "name": "stderr",
     "output_type": "stream",
     "text": [
      "/Users/DanLoew/anaconda3/lib/python3.7/site-packages/ipykernel_launcher.py:2: SettingWithCopyWarning: \n",
      "A value is trying to be set on a copy of a slice from a DataFrame.\n",
      "Try using .loc[row_indexer,col_indexer] = value instead\n",
      "\n",
      "See the caveats in the documentation: http://pandas.pydata.org/pandas-docs/stable/indexing.html#indexing-view-versus-copy\n",
      "  \n"
     ]
    }
   ],
   "source": [
    "hisp_blacks_c = cann.SUSP_RACE_cleaned == 'BLACK HISPANIC'\n",
    "cann['hisp_blacks'] = hisp_blacks_c.astype(int)"
   ]
  },
  {
   "cell_type": "markdown",
   "metadata": {},
   "source": [
    "There are 361 cannabis crimes with a recorded Hispanic Black suspect."
   ]
  },
  {
   "cell_type": "code",
   "execution_count": 95,
   "metadata": {
    "scrolled": false
   },
   "outputs": [
    {
     "data": {
      "text/plain": [
       "0    21669\n",
       "1      361\n",
       "Name: hisp_blacks, dtype: int64"
      ]
     },
     "execution_count": 95,
     "metadata": {},
     "output_type": "execute_result"
    }
   ],
   "source": [
    "cann['hisp_blacks'].value_counts()"
   ]
  },
  {
   "cell_type": "markdown",
   "metadata": {},
   "source": [
    "The mean of the 'hisp_blacks' feature is assigned to 'cann_hisp_blacks', for use in the t-test function that will be run below."
   ]
  },
  {
   "cell_type": "code",
   "execution_count": 96,
   "metadata": {},
   "outputs": [
    {
     "data": {
      "text/plain": [
       "0.016386745347253744"
      ]
     },
     "execution_count": 96,
     "metadata": {},
     "output_type": "execute_result"
    }
   ],
   "source": [
    "cann_hisp_blacks = np.mean(cann['hisp_blacks'])\n",
    "cann_hisp_blacks"
   ]
  },
  {
   "cell_type": "markdown",
   "metadata": {},
   "source": [
    "The standard deviation of the 'hisp_blacks' feature is assigned to 'cann_hisp_blacks_std', for use in the t-test function that will be run below."
   ]
  },
  {
   "cell_type": "code",
   "execution_count": 97,
   "metadata": {},
   "outputs": [
    {
     "data": {
      "text/plain": [
       "0.1269575516626439"
      ]
     },
     "execution_count": 97,
     "metadata": {},
     "output_type": "execute_result"
    }
   ],
   "source": [
    "cann_hisp_blacks_std = np.std(cann['hisp_blacks'])\n",
    "cann_hisp_blacks_std"
   ]
  },
  {
   "cell_type": "markdown",
   "metadata": {},
   "source": [
    "A flag feature is created in the 'non_cann' DataFrame which flags those non-cannabis crimes which were committed by a recorded African-American suspect ('1' for African-American and '0' for not African-American)."
   ]
  },
  {
   "cell_type": "code",
   "execution_count": 98,
   "metadata": {
    "collapsed": true
   },
   "outputs": [
    {
     "name": "stderr",
     "output_type": "stream",
     "text": [
      "/Users/DanLoew/anaconda3/lib/python3.7/site-packages/ipykernel_launcher.py:2: SettingWithCopyWarning: \n",
      "A value is trying to be set on a copy of a slice from a DataFrame.\n",
      "Try using .loc[row_indexer,col_indexer] = value instead\n",
      "\n",
      "See the caveats in the documentation: http://pandas.pydata.org/pandas-docs/stable/indexing.html#indexing-view-versus-copy\n",
      "  \n"
     ]
    }
   ],
   "source": [
    "hisp_blacks_nc = non_cann.SUSP_RACE_cleaned == 'BLACK HISPANIC'\n",
    "non_cann['hisp_blacks'] = hisp_blacks_nc.astype(int)"
   ]
  },
  {
   "cell_type": "markdown",
   "metadata": {},
   "source": [
    "There are 16,256 non-cannabis crimes with a recorded Hispanic Black suspect."
   ]
  },
  {
   "cell_type": "code",
   "execution_count": 99,
   "metadata": {
    "scrolled": true
   },
   "outputs": [
    {
     "data": {
      "text/plain": [
       "0    607593\n",
       "1     16256\n",
       "Name: hisp_blacks, dtype: int64"
      ]
     },
     "execution_count": 99,
     "metadata": {},
     "output_type": "execute_result"
    }
   ],
   "source": [
    "non_cann['hisp_blacks'].value_counts()"
   ]
  },
  {
   "cell_type": "markdown",
   "metadata": {},
   "source": [
    "The mean of the 'hisp_blacks' feature is assigned to 'non_cann_hisp_blacks', for use in the t-test function that will be run below."
   ]
  },
  {
   "cell_type": "code",
   "execution_count": 100,
   "metadata": {
    "scrolled": true
   },
   "outputs": [
    {
     "data": {
      "text/plain": [
       "0.026057587653422542"
      ]
     },
     "execution_count": 100,
     "metadata": {},
     "output_type": "execute_result"
    }
   ],
   "source": [
    "non_cann_hisp_blacks = np.mean(non_cann['hisp_blacks'])\n",
    "non_cann_hisp_blacks"
   ]
  },
  {
   "cell_type": "markdown",
   "metadata": {},
   "source": [
    "The standard deviation of the 'hisp_blacks' feature is assigned to 'non_cann_hisp_blacks_std', for use in the t-test function that will be run below."
   ]
  },
  {
   "cell_type": "code",
   "execution_count": 101,
   "metadata": {},
   "outputs": [
    {
     "data": {
      "text/plain": [
       "0.15930659050730908"
      ]
     },
     "execution_count": 101,
     "metadata": {},
     "output_type": "execute_result"
    }
   ],
   "source": [
    "non_cann_hisp_blacks_std = np.std(non_cann['hisp_blacks'])\n",
    "non_cann_hisp_blacks_std"
   ]
  },
  {
   "cell_type": "markdown",
   "metadata": {},
   "source": [
    "The t-test is run using the mean and standard deviation of the 'hisp_blacks' feature, along with the sample size, of the cannabis crime group and the non-cannabis crime group. The t-score is approximately 8.9 and the p-value is 5.1e-19."
   ]
  },
  {
   "cell_type": "code",
   "execution_count": 102,
   "metadata": {},
   "outputs": [
    {
     "data": {
      "text/plain": [
       "Ttest_indResult(statistic=8.910896298244786, pvalue=5.074843146331189e-19)"
      ]
     },
     "execution_count": 102,
     "metadata": {},
     "output_type": "execute_result"
    }
   ],
   "source": [
    "scipy.stats.ttest_ind_from_stats(non_cann_hisp_blacks, non_cann_hisp_blacks_std, n_non_cann, cann_hisp_blacks, cann_hisp_blacks_std, n_cann)"
   ]
  },
  {
   "cell_type": "markdown",
   "metadata": {},
   "source": [
    "The sixth null hypothesis is rejected. Hispanic Blacks arrested for a crime are NOT equally likely to be arrested for cannabis crimes as they are for non-cannabis crimes."
   ]
  },
  {
   "cell_type": "markdown",
   "metadata": {},
   "source": [
    "# Likelihood of Arrest for Cannabis and Non-Cannabis Crimes for Asians:  Seventh Null Hypothesis"
   ]
  },
  {
   "cell_type": "markdown",
   "metadata": {},
   "source": [
    "The seventh null hypothesis states that Asians arrested for a crime are equally likely to be arrested for cannabis crimes as they are for non-cannabis crimes."
   ]
  },
  {
   "cell_type": "markdown",
   "metadata": {},
   "source": [
    "First, a flag feature is created in the 'cann' DataFrame which flags those cannabis crimes which were committed by a recorded Asian suspect ('1' for Asian and '0' for not Asian)."
   ]
  },
  {
   "cell_type": "code",
   "execution_count": 103,
   "metadata": {
    "collapsed": true
   },
   "outputs": [
    {
     "name": "stderr",
     "output_type": "stream",
     "text": [
      "/Users/DanLoew/anaconda3/lib/python3.7/site-packages/ipykernel_launcher.py:2: SettingWithCopyWarning: \n",
      "A value is trying to be set on a copy of a slice from a DataFrame.\n",
      "Try using .loc[row_indexer,col_indexer] = value instead\n",
      "\n",
      "See the caveats in the documentation: http://pandas.pydata.org/pandas-docs/stable/indexing.html#indexing-view-versus-copy\n",
      "  \n"
     ]
    }
   ],
   "source": [
    "asians_c = cann.SUSP_RACE_cleaned == 'ASIAN / PACIFIC ISLANDER'\n",
    "cann['asians'] = asians_c.astype(int)"
   ]
  },
  {
   "cell_type": "markdown",
   "metadata": {},
   "source": [
    "There are 82 cannabis crimes with a recorded Asian suspect."
   ]
  },
  {
   "cell_type": "code",
   "execution_count": 104,
   "metadata": {
    "scrolled": false
   },
   "outputs": [
    {
     "data": {
      "text/plain": [
       "0    21948\n",
       "1       82\n",
       "Name: asians, dtype: int64"
      ]
     },
     "execution_count": 104,
     "metadata": {},
     "output_type": "execute_result"
    }
   ],
   "source": [
    "cann['asians'].value_counts()"
   ]
  },
  {
   "cell_type": "markdown",
   "metadata": {},
   "source": [
    "The mean of the 'asians' feature is assigned to 'cann_asians', for use in the t-test function that will be run below."
   ]
  },
  {
   "cell_type": "code",
   "execution_count": 105,
   "metadata": {
    "scrolled": true
   },
   "outputs": [
    {
     "data": {
      "text/plain": [
       "0.003722197004085338"
      ]
     },
     "execution_count": 105,
     "metadata": {},
     "output_type": "execute_result"
    }
   ],
   "source": [
    "cann_asians = np.mean(cann['asians'])\n",
    "cann_asians"
   ]
  },
  {
   "cell_type": "markdown",
   "metadata": {},
   "source": [
    "The standard deviation of the 'asians' feature is assigned to 'cann_asians_std', for use in the t-test function that will be run below."
   ]
  },
  {
   "cell_type": "code",
   "execution_count": 106,
   "metadata": {},
   "outputs": [
    {
     "data": {
      "text/plain": [
       "0.060896159596039376"
      ]
     },
     "execution_count": 106,
     "metadata": {},
     "output_type": "execute_result"
    }
   ],
   "source": [
    "cann_asians_std = np.std(cann['asians'])\n",
    "cann_asians_std"
   ]
  },
  {
   "cell_type": "markdown",
   "metadata": {},
   "source": [
    "A flag feature is created in the 'non_cann' DataFrame which flags those non-cannabis crimes which were committed by a recorded Asian suspect ('1' for Asian and '0' for not Asian)."
   ]
  },
  {
   "cell_type": "code",
   "execution_count": 107,
   "metadata": {
    "collapsed": true
   },
   "outputs": [
    {
     "name": "stderr",
     "output_type": "stream",
     "text": [
      "/Users/DanLoew/anaconda3/lib/python3.7/site-packages/ipykernel_launcher.py:2: SettingWithCopyWarning: \n",
      "A value is trying to be set on a copy of a slice from a DataFrame.\n",
      "Try using .loc[row_indexer,col_indexer] = value instead\n",
      "\n",
      "See the caveats in the documentation: http://pandas.pydata.org/pandas-docs/stable/indexing.html#indexing-view-versus-copy\n",
      "  \n"
     ]
    }
   ],
   "source": [
    "asians_nc = non_cann.SUSP_RACE_cleaned == 'ASIAN / PACIFIC ISLANDER'\n",
    "non_cann['asians'] = asians_nc.astype(int)"
   ]
  },
  {
   "cell_type": "markdown",
   "metadata": {},
   "source": [
    "There are 10,211 non-cannabis crimes with a recorded Asian suspect."
   ]
  },
  {
   "cell_type": "code",
   "execution_count": 108,
   "metadata": {
    "scrolled": true
   },
   "outputs": [
    {
     "data": {
      "text/plain": [
       "0    613638\n",
       "1     10211\n",
       "Name: asians, dtype: int64"
      ]
     },
     "execution_count": 108,
     "metadata": {},
     "output_type": "execute_result"
    }
   ],
   "source": [
    "non_cann['asians'].value_counts()"
   ]
  },
  {
   "cell_type": "markdown",
   "metadata": {},
   "source": [
    "The mean of the 'asians' feature is assigned to 'non_cann_asians', for use in the t-test function that will be run below."
   ]
  },
  {
   "cell_type": "code",
   "execution_count": 109,
   "metadata": {},
   "outputs": [
    {
     "data": {
      "text/plain": [
       "0.016367742835205316"
      ]
     },
     "execution_count": 109,
     "metadata": {},
     "output_type": "execute_result"
    }
   ],
   "source": [
    "non_cann_asians = np.mean(non_cann['asians'])\n",
    "non_cann_asians"
   ]
  },
  {
   "cell_type": "markdown",
   "metadata": {},
   "source": [
    "The standard deviation of the 'asians' feature is assigned to 'non_cann_asians_std', for use in the t-test function that will be run below."
   ]
  },
  {
   "cell_type": "code",
   "execution_count": 110,
   "metadata": {},
   "outputs": [
    {
     "data": {
      "text/plain": [
       "0.1268851442439904"
      ]
     },
     "execution_count": 110,
     "metadata": {},
     "output_type": "execute_result"
    }
   ],
   "source": [
    "non_cann_asians_std = np.std(non_cann['asians'])\n",
    "non_cann_asians_std"
   ]
  },
  {
   "cell_type": "markdown",
   "metadata": {},
   "source": [
    "The t-test is run using the mean and standard deviation of the 'asians' feature, along with the sample size, of the cannabis crime group and the non-cannabis crime group. The t-score is approximately 14.7 and the p-value is 4.1e-49."
   ]
  },
  {
   "cell_type": "code",
   "execution_count": 111,
   "metadata": {},
   "outputs": [
    {
     "data": {
      "text/plain": [
       "Ttest_indResult(statistic=14.732441192840762, pvalue=4.064362489290671e-49)"
      ]
     },
     "execution_count": 111,
     "metadata": {},
     "output_type": "execute_result"
    }
   ],
   "source": [
    "scipy.stats.ttest_ind_from_stats(non_cann_asians, non_cann_asians_std, n_non_cann, cann_asians, cann_asians_std, n_cann)"
   ]
  },
  {
   "cell_type": "markdown",
   "metadata": {},
   "source": [
    "The seventh null hypothesis is rejected. Asians arrested for a crime are NOT equally likely to be arrested for cannabis crimes as they are for non-cannabis crimes."
   ]
  },
  {
   "cell_type": "markdown",
   "metadata": {},
   "source": [
    "# Likelihood of Arrest for Cannabis Crimes for African-Americans and Whites:  Eighth Null Hypothesis"
   ]
  },
  {
   "cell_type": "markdown",
   "metadata": {},
   "source": [
    "The eighth null hypothesis states that African-Americans arrested for a crime are equally likely to be arrested for cannabis crimes as Whites arrested for a crime. The arguments for the t-test function are already defined above."
   ]
  },
  {
   "cell_type": "markdown",
   "metadata": {},
   "source": [
    "The t-test is run using the means and standard deviations of the 'african_american' and 'white' features, along with the sample size of the cannabis crime group. The t-score is approximately 34.0 and the p-value is 1.8e-249."
   ]
  },
  {
   "cell_type": "code",
   "execution_count": 112,
   "metadata": {},
   "outputs": [
    {
     "data": {
      "text/plain": [
       "Ttest_indResult(statistic=33.95101358854242, pvalue=1.9730978972156837e-249)"
      ]
     },
     "execution_count": 112,
     "metadata": {},
     "output_type": "execute_result"
    }
   ],
   "source": [
    "scipy.stats.ttest_ind_from_stats(cann_af_am, cann_af_am_std, n_cann, cann_white, cann_white_std, n_cann)"
   ]
  },
  {
   "cell_type": "markdown",
   "metadata": {},
   "source": [
    "The eighth null hypothesis is rejected, so African-Americans arrested for a crime are NOT equally likely to be charged for cannabis crimes as white people arrested for a crime."
   ]
  },
  {
   "cell_type": "markdown",
   "metadata": {},
   "source": [
    "# Likelihood of Arrest for Cannabis Crimes for Hispanic Whites and Whites:  Ninth Null Hypothesis"
   ]
  },
  {
   "cell_type": "markdown",
   "metadata": {},
   "source": [
    "The ninth null hypothesis states that Hispanic Whites arrested for a crime are equally likely to be arrested for cannabis crimes as Whites arrested for a crime. The arguments for the t-test function are already defined above. The t-score is approximately 18.4 and the p-value is 2.0e-75."
   ]
  },
  {
   "cell_type": "code",
   "execution_count": 113,
   "metadata": {
    "scrolled": false
   },
   "outputs": [
    {
     "data": {
      "text/plain": [
       "Ttest_indResult(statistic=18.413271851747407, pvalue=1.9750398165467757e-75)"
      ]
     },
     "execution_count": 113,
     "metadata": {},
     "output_type": "execute_result"
    }
   ],
   "source": [
    "scipy.stats.ttest_ind_from_stats(cann_hisp_whites, cann_hisp_whites_std, n_cann, cann_white, cann_white_std, n_cann)"
   ]
  },
  {
   "cell_type": "markdown",
   "metadata": {},
   "source": [
    "The ninth null hypothesis was rejected, so Hispanic whites arrested for a crime are NOT equally likely to be charged for cannabis crimes as white people arrested for a crime."
   ]
  },
  {
   "cell_type": "markdown",
   "metadata": {},
   "source": [
    "# Likelihood of Arrest for Cannabis Crimes for Hispanic Blacks and Whites:  10th Null Hypothesis"
   ]
  },
  {
   "cell_type": "markdown",
   "metadata": {},
   "source": [
    "The 10th null hypothesis states that Hispanic blacks arrested for a crime are equally likely to be charged for cannabis crimes as white people arrested for a crime. The arguments for the t-test function are already defined above. The t-score is approximately 2.7 and the p-value is 0.01."
   ]
  },
  {
   "cell_type": "code",
   "execution_count": 114,
   "metadata": {},
   "outputs": [
    {
     "data": {
      "text/plain": [
       "Ttest_indResult(statistic=2.6791854474292762, pvalue=0.0073828913926165885)"
      ]
     },
     "execution_count": 114,
     "metadata": {},
     "output_type": "execute_result"
    }
   ],
   "source": [
    "scipy.stats.ttest_ind_from_stats(cann_hisp_blacks, cann_hisp_blacks_std, n_cann, cann_white, cann_white_std, n_cann)"
   ]
  },
  {
   "cell_type": "markdown",
   "metadata": {},
   "source": [
    "The 10th null hypothesis was rejected, so Hispanic blacks arrested for a crime are NOT equally likely to be charged for cannabis crimes as white people arrested for a crime."
   ]
  },
  {
   "cell_type": "markdown",
   "metadata": {},
   "source": [
    "# Likelihood of Arrest for Cannabis Crimes for Asians and Whites:  11th Null Hypothesis"
   ]
  },
  {
   "cell_type": "markdown",
   "metadata": {},
   "source": [
    "The 11th null hypothesis states that Asians arrested for a crime are equally likely to be charged for cannabis crimes as white people arrested for a crime. The arguments for the t-test function are already defined above. The t-score is approximately -11.0 and the p-value is 6.6e-28."
   ]
  },
  {
   "cell_type": "code",
   "execution_count": 115,
   "metadata": {},
   "outputs": [
    {
     "data": {
      "text/plain": [
       "Ttest_indResult(statistic=-10.957559610650065, pvalue=6.641606022332508e-28)"
      ]
     },
     "execution_count": 115,
     "metadata": {},
     "output_type": "execute_result"
    }
   ],
   "source": [
    "scipy.stats.ttest_ind_from_stats(cann_asians, cann_asians_std, n_cann, cann_white, cann_white_std, n_cann)"
   ]
  },
  {
   "cell_type": "markdown",
   "metadata": {},
   "source": [
    "The 11th null hypothesis was rejected, so Asians arrested for a crime are NOT equally likely to be charged for cannabis crimes as Whites arrested for a crime."
   ]
  },
  {
   "cell_type": "markdown",
   "metadata": {},
   "source": [
    "# Likelihood of Arrest for Cannabis Crimes for African-Americans and Hispanic Whites:  12th Null Hypothesis"
   ]
  },
  {
   "cell_type": "markdown",
   "metadata": {},
   "source": [
    "The 12th null hypothesis states that African-Americans arrested for a crime are equally likely to be charged for cannabis crimes as Hispanic Whites arrested for a crime. The arguments for the t-test function are already defined above. The t-score is approximately 17.1 and the p-value is 1.9e-65."
   ]
  },
  {
   "cell_type": "code",
   "execution_count": 116,
   "metadata": {
    "scrolled": true
   },
   "outputs": [
    {
     "data": {
      "text/plain": [
       "Ttest_indResult(statistic=17.115399986624872, pvalue=1.8561500214806594e-65)"
      ]
     },
     "execution_count": 116,
     "metadata": {},
     "output_type": "execute_result"
    }
   ],
   "source": [
    "scipy.stats.ttest_ind_from_stats(cann_af_am, cann_af_am_std, n_cann, cann_hisp_whites, cann_hisp_whites_std, n_cann)"
   ]
  },
  {
   "cell_type": "markdown",
   "metadata": {},
   "source": [
    "The 12th null hypothesis was rejected, so African-Americans arrested for a crime are NOT equally likely to be charged for cannabis crimes as Hispanic Whites arrested for a crime."
   ]
  },
  {
   "cell_type": "markdown",
   "metadata": {},
   "source": [
    "# Likelihood of Arrest for Cannabis Crimes for African-Americans and Hispanic Blacks:  13th Null Hypothesis"
   ]
  },
  {
   "cell_type": "markdown",
   "metadata": {},
   "source": [
    "The 13th null hypothesis states that African-Americans arrested for a crime are equally likely to be charged for cannabis crimes as Hispanic Blacks arrested for a crime. The arguments for the t-test function are already defined above. The t-score is approximately 31.9 and the p-value is 2.9e-220."
   ]
  },
  {
   "cell_type": "code",
   "execution_count": 117,
   "metadata": {},
   "outputs": [
    {
     "data": {
      "text/plain": [
       "Ttest_indResult(statistic=31.86216902974593, pvalue=2.8657113854483013e-220)"
      ]
     },
     "execution_count": 117,
     "metadata": {},
     "output_type": "execute_result"
    }
   ],
   "source": [
    "scipy.stats.ttest_ind_from_stats(cann_af_am, cann_af_am_std, n_cann, cann_hisp_blacks, cann_hisp_blacks_std, n_cann)"
   ]
  },
  {
   "cell_type": "markdown",
   "metadata": {},
   "source": [
    "The 13th null hypothesis was rejected, so African-Americans arrested for a crime are NOT equally likely to be charged for cannabis crimes as black Hispanic people arrested for a crime."
   ]
  },
  {
   "cell_type": "markdown",
   "metadata": {},
   "source": [
    "# Likelihood of Arrest for Cannabis Crimes for White Hispanics and Black Hispanics:  14th Null Hypothesis"
   ]
  },
  {
   "cell_type": "markdown",
   "metadata": {},
   "source": [
    "The 14th null hypothesis states that White Hispanics arrested for a crime are equally likely to be charged for cannabis crimes as Black Hispanics arrested for a crime. The arguments for the t-test function are already defined above. The t-score is approximately 16.0 and the p-value is 2.3e-57."
   ]
  },
  {
   "cell_type": "code",
   "execution_count": 118,
   "metadata": {},
   "outputs": [
    {
     "data": {
      "text/plain": [
       "Ttest_indResult(statistic=15.986003550012267, pvalue=2.320652865432582e-57)"
      ]
     },
     "execution_count": 118,
     "metadata": {},
     "output_type": "execute_result"
    }
   ],
   "source": [
    "scipy.stats.ttest_ind_from_stats(cann_hisp_whites, cann_hisp_whites_std, n_cann, cann_hisp_blacks, cann_hisp_blacks_std, n_cann)"
   ]
  },
  {
   "cell_type": "markdown",
   "metadata": {},
   "source": [
    "The 14th null hypothesis was rejected, so White Hispanics arrested for a crime are NOT equally likely to be charged for cannabis crimes as Black Hispanics arrested for a crime."
   ]
  },
  {
   "cell_type": "markdown",
   "metadata": {},
   "source": [
    "# Likelihood of Misdemeanor versus Violation Possession for African-Americans: 15th Null Hypothesis"
   ]
  },
  {
   "cell_type": "markdown",
   "metadata": {},
   "source": [
    "The 15th null hypothesis was that African-Americans arrested for a cannabis crime are equally likely to be charged for misdemeanor cannabis possession as they are for violation cannabis possession. This hypothesis test was warranted by the fact that in the Data Story and EDA report, Whites were slightly more likely to be arrested for violation cannabis possession than misdemeanor cannabis possession."
   ]
  },
  {
   "cell_type": "markdown",
   "metadata": {},
   "source": [
    "A DataFrame of African-Americans who committed cannabis crimes is first subsetted. Its length is then taken to define the sample size of this group, which will be used in the hypothesis test below."
   ]
  },
  {
   "cell_type": "code",
   "execution_count": 119,
   "metadata": {},
   "outputs": [],
   "source": [
    "af_am_cann = cann[cann.african_american == 1]"
   ]
  },
  {
   "cell_type": "code",
   "execution_count": 120,
   "metadata": {
    "scrolled": true
   },
   "outputs": [
    {
     "data": {
      "text/plain": [
       "1784"
      ]
     },
     "execution_count": 120,
     "metadata": {},
     "output_type": "execute_result"
    }
   ],
   "source": [
    "n_af_am_cann = len(af_am_cann)\n",
    "n_af_am_cann"
   ]
  },
  {
   "cell_type": "markdown",
   "metadata": {},
   "source": [
    "First, a flag feature is created in the 'cann' DataFrame which flags those misdemeanor cannabis possession crimes which were committed by a recorded African-American suspect ('1' for African-American misdemeanor cannabis possession and '0' for not African-American misdemeanor cannabis possession)."
   ]
  },
  {
   "cell_type": "code",
   "execution_count": 121,
   "metadata": {
    "collapsed": true
   },
   "outputs": [
    {
     "name": "stderr",
     "output_type": "stream",
     "text": [
      "/Users/DanLoew/anaconda3/lib/python3.7/site-packages/ipykernel_launcher.py:2: SettingWithCopyWarning: \n",
      "A value is trying to be set on a copy of a slice from a DataFrame.\n",
      "Try using .loc[row_indexer,col_indexer] = value instead\n",
      "\n",
      "See the caveats in the documentation: http://pandas.pydata.org/pandas-docs/stable/indexing.html#indexing-view-versus-copy\n",
      "  \n"
     ]
    }
   ],
   "source": [
    "af_am_misd_poss = (cann['african_american'] == 1) & (cann['misd_poss'] == 1)\n",
    "cann['af_am_misd_poss'] = af_am_misd_poss.astype(int)"
   ]
  },
  {
   "cell_type": "markdown",
   "metadata": {},
   "source": [
    "There are 1,539 misdemeanor cannabis possession crimes with a recorded African-American suspect."
   ]
  },
  {
   "cell_type": "code",
   "execution_count": 122,
   "metadata": {
    "scrolled": true
   },
   "outputs": [
    {
     "data": {
      "text/plain": [
       "0    20491\n",
       "1     1539\n",
       "Name: af_am_misd_poss, dtype: int64"
      ]
     },
     "execution_count": 122,
     "metadata": {},
     "output_type": "execute_result"
    }
   ],
   "source": [
    "cann['af_am_misd_poss'].value_counts()"
   ]
  },
  {
   "cell_type": "markdown",
   "metadata": {},
   "source": [
    "The mean of the 'af_am_misd_poss' feature is assigned to 'af_am_misd_poss_m', for use in the t-test function that will be run below."
   ]
  },
  {
   "cell_type": "code",
   "execution_count": 123,
   "metadata": {},
   "outputs": [
    {
     "data": {
      "text/plain": [
       "0.06985928279618701"
      ]
     },
     "execution_count": 123,
     "metadata": {},
     "output_type": "execute_result"
    }
   ],
   "source": [
    "af_am_misd_poss_m = np.mean(cann['af_am_misd_poss'])\n",
    "af_am_misd_poss_m"
   ]
  },
  {
   "cell_type": "markdown",
   "metadata": {},
   "source": [
    "The standard deviation of the 'af_am_misd_poss' feature is assigned to 'af_am_misd_poss_std', for use in the t-test function that will be run below."
   ]
  },
  {
   "cell_type": "code",
   "execution_count": 124,
   "metadata": {},
   "outputs": [
    {
     "data": {
      "text/plain": [
       "0.2549097161808717"
      ]
     },
     "execution_count": 124,
     "metadata": {},
     "output_type": "execute_result"
    }
   ],
   "source": [
    "af_am_misd_poss_std = np.std(cann['af_am_misd_poss'])\n",
    "af_am_misd_poss_std"
   ]
  },
  {
   "cell_type": "markdown",
   "metadata": {},
   "source": [
    "A flag feature is created in the 'cann' DataFrame which flags those violation cannabis possession crimes which were committed by a recorded African-American suspect ('1' for African-American violation cannabis possession and '0' for not African-American violation cannabis possession)."
   ]
  },
  {
   "cell_type": "code",
   "execution_count": 125,
   "metadata": {
    "collapsed": true
   },
   "outputs": [
    {
     "name": "stderr",
     "output_type": "stream",
     "text": [
      "/Users/DanLoew/anaconda3/lib/python3.7/site-packages/ipykernel_launcher.py:2: SettingWithCopyWarning: \n",
      "A value is trying to be set on a copy of a slice from a DataFrame.\n",
      "Try using .loc[row_indexer,col_indexer] = value instead\n",
      "\n",
      "See the caveats in the documentation: http://pandas.pydata.org/pandas-docs/stable/indexing.html#indexing-view-versus-copy\n",
      "  \n"
     ]
    }
   ],
   "source": [
    "af_am_viol_poss = (cann['african_american'] == 1) & (cann['viol_poss'] == 1)\n",
    "cann['af_am_viol_poss'] = af_am_viol_poss.astype(int)"
   ]
  },
  {
   "cell_type": "markdown",
   "metadata": {},
   "source": [
    "There are 84 violation cannabis possession crimes with a recorded African-American suspect."
   ]
  },
  {
   "cell_type": "code",
   "execution_count": 126,
   "metadata": {
    "scrolled": true
   },
   "outputs": [
    {
     "data": {
      "text/plain": [
       "0    21946\n",
       "1       84\n",
       "Name: af_am_viol_poss, dtype: int64"
      ]
     },
     "execution_count": 126,
     "metadata": {},
     "output_type": "execute_result"
    }
   ],
   "source": [
    "cann['af_am_viol_poss'].value_counts()"
   ]
  },
  {
   "cell_type": "markdown",
   "metadata": {},
   "source": [
    "The mean of the 'af_am_viol_poss' feature is assigned to 'af_am_viol_poss_m', for use in the t-test function that will be run below."
   ]
  },
  {
   "cell_type": "code",
   "execution_count": 127,
   "metadata": {},
   "outputs": [
    {
     "data": {
      "text/plain": [
       "0.0038129822968679073"
      ]
     },
     "execution_count": 127,
     "metadata": {},
     "output_type": "execute_result"
    }
   ],
   "source": [
    "af_am_viol_poss_m = np.mean(cann['af_am_viol_poss'])\n",
    "af_am_viol_poss_m"
   ]
  },
  {
   "cell_type": "markdown",
   "metadata": {},
   "source": [
    "The standard deviation of the 'af_am_viol_poss' feature is assigned to 'af_am_misd_viol_std', for use in the t-test function that will be run below."
   ]
  },
  {
   "cell_type": "code",
   "execution_count": 128,
   "metadata": {},
   "outputs": [
    {
     "data": {
      "text/plain": [
       "0.061631513553297955"
      ]
     },
     "execution_count": 128,
     "metadata": {},
     "output_type": "execute_result"
    }
   ],
   "source": [
    "af_am_viol_poss_std = np.std(cann['af_am_viol_poss'])\n",
    "af_am_viol_poss_std"
   ]
  },
  {
   "cell_type": "markdown",
   "metadata": {},
   "source": [
    "The t-test is run using the means and standard deviations of the 'af_am_misd_poss' and 'af_am_viol_poss' features, along with the sample size of the African-American cannabis crime group. The t-score is approximately 10.6 and the p-value is 4.9e-26."
   ]
  },
  {
   "cell_type": "code",
   "execution_count": 129,
   "metadata": {
    "scrolled": true
   },
   "outputs": [
    {
     "data": {
      "text/plain": [
       "Ttest_indResult(statistic=10.637094620604225, pvalue=4.8992078156127774e-26)"
      ]
     },
     "execution_count": 129,
     "metadata": {},
     "output_type": "execute_result"
    }
   ],
   "source": [
    "scipy.stats.ttest_ind_from_stats(af_am_misd_poss_m, af_am_misd_poss_std, n_af_am_cann, af_am_viol_poss_m, af_am_viol_poss_std, n_af_am_cann)"
   ]
  },
  {
   "cell_type": "markdown",
   "metadata": {},
   "source": [
    "The 15th null hypothesis is rejected, so African-Americans arrested for a cannabis crime are NOT equally likely to be charged for misdemeanor cannabis possession as they are for violation cannabis possession."
   ]
  },
  {
   "cell_type": "markdown",
   "metadata": {},
   "source": [
    "# Likelihood of Misdemeanor versus Violation Possession for Whites: 16th Null Hypothesis"
   ]
  },
  {
   "cell_type": "markdown",
   "metadata": {},
   "source": [
    "EDA suggested that more whites are arrested for violation possession charges. The 16th null hypothesis to be tested is that Whites arrested for a cannabis crime are equally likely to be charged for misdemeanor cannabis possession as they are for violation cannabis possession."
   ]
  },
  {
   "cell_type": "markdown",
   "metadata": {},
   "source": [
    "A DataFrame of Whites who committed cannabis crimes is first subsetted. Its length is then taken to define the sample size of this group, which will be used in the hypothesis test below."
   ]
  },
  {
   "cell_type": "code",
   "execution_count": 130,
   "metadata": {},
   "outputs": [],
   "source": [
    "white_cann = cann[cann.white == 1]"
   ]
  },
  {
   "cell_type": "code",
   "execution_count": 131,
   "metadata": {},
   "outputs": [
    {
     "data": {
      "text/plain": [
       "293"
      ]
     },
     "execution_count": 131,
     "metadata": {},
     "output_type": "execute_result"
    }
   ],
   "source": [
    "n_white_cann = len(white_cann)\n",
    "n_white_cann"
   ]
  },
  {
   "cell_type": "markdown",
   "metadata": {},
   "source": [
    "First, a flag feature is created in the 'cann' DataFrame which flags those misdemeanor cannabis possession crimes which were committed by a recorded White suspect ('1' for White misdemeanor cannabis possession and '0' for not White misdemeanor cannabis possession)."
   ]
  },
  {
   "cell_type": "code",
   "execution_count": 132,
   "metadata": {
    "collapsed": true
   },
   "outputs": [
    {
     "name": "stderr",
     "output_type": "stream",
     "text": [
      "/Users/DanLoew/anaconda3/lib/python3.7/site-packages/ipykernel_launcher.py:2: SettingWithCopyWarning: \n",
      "A value is trying to be set on a copy of a slice from a DataFrame.\n",
      "Try using .loc[row_indexer,col_indexer] = value instead\n",
      "\n",
      "See the caveats in the documentation: http://pandas.pydata.org/pandas-docs/stable/indexing.html#indexing-view-versus-copy\n",
      "  \n"
     ]
    }
   ],
   "source": [
    "white_misd_poss = (cann['white'] == 1) & (cann['misd_poss'] == 1)\n",
    "cann['white_misd_poss'] = white_misd_poss.astype(int)"
   ]
  },
  {
   "cell_type": "markdown",
   "metadata": {},
   "source": [
    "There are 261 misdemeanor cannabis possession crimes with a recorded White suspect."
   ]
  },
  {
   "cell_type": "code",
   "execution_count": 133,
   "metadata": {
    "scrolled": true
   },
   "outputs": [
    {
     "data": {
      "text/plain": [
       "0    21769\n",
       "1      261\n",
       "Name: white_misd_poss, dtype: int64"
      ]
     },
     "execution_count": 133,
     "metadata": {},
     "output_type": "execute_result"
    }
   ],
   "source": [
    "cann['white_misd_poss'].value_counts()"
   ]
  },
  {
   "cell_type": "markdown",
   "metadata": {},
   "source": [
    "The mean of the 'white_misd_poss' feature is assigned to 'white_misd_poss_m', for use in the t-test function that will be run below."
   ]
  },
  {
   "cell_type": "code",
   "execution_count": 134,
   "metadata": {},
   "outputs": [
    {
     "data": {
      "text/plain": [
       "0.011847480708125283"
      ]
     },
     "execution_count": 134,
     "metadata": {},
     "output_type": "execute_result"
    }
   ],
   "source": [
    "white_misd_poss_m = np.mean(cann['white_misd_poss'])\n",
    "white_misd_poss_m"
   ]
  },
  {
   "cell_type": "markdown",
   "metadata": {},
   "source": [
    "The standard deviation of the 'white_misd_poss' feature is assigned to 'white_misd_poss_std', for use in the t-test function that will be run below."
   ]
  },
  {
   "cell_type": "code",
   "execution_count": 135,
   "metadata": {},
   "outputs": [
    {
     "data": {
      "text/plain": [
       "0.10819943580719762"
      ]
     },
     "execution_count": 135,
     "metadata": {},
     "output_type": "execute_result"
    }
   ],
   "source": [
    "white_misd_poss_std = np.std(cann['white_misd_poss'])\n",
    "white_misd_poss_std"
   ]
  },
  {
   "cell_type": "markdown",
   "metadata": {},
   "source": [
    "A flag feature is created in the 'cann' DataFrame which flags those violation cannabis possession crimes which were committed by a recorded White suspect ('1' for White violation cannabis possession and '0' for not White violation cannabis possession)."
   ]
  },
  {
   "cell_type": "code",
   "execution_count": 136,
   "metadata": {
    "collapsed": true
   },
   "outputs": [
    {
     "name": "stderr",
     "output_type": "stream",
     "text": [
      "/Users/DanLoew/anaconda3/lib/python3.7/site-packages/ipykernel_launcher.py:2: SettingWithCopyWarning: \n",
      "A value is trying to be set on a copy of a slice from a DataFrame.\n",
      "Try using .loc[row_indexer,col_indexer] = value instead\n",
      "\n",
      "See the caveats in the documentation: http://pandas.pydata.org/pandas-docs/stable/indexing.html#indexing-view-versus-copy\n",
      "  \n"
     ]
    }
   ],
   "source": [
    "white_viol_poss = (cann['white'] == 1) & (cann['viol_poss'] == 1)\n",
    "cann['white_viol_poss'] = white_viol_poss.astype(int)"
   ]
  },
  {
   "cell_type": "markdown",
   "metadata": {},
   "source": [
    "There are 12 violation cannabis possession crimes with a recorded White suspect."
   ]
  },
  {
   "cell_type": "code",
   "execution_count": 137,
   "metadata": {},
   "outputs": [
    {
     "data": {
      "text/plain": [
       "0    22018\n",
       "1       12\n",
       "Name: white_viol_poss, dtype: int64"
      ]
     },
     "execution_count": 137,
     "metadata": {},
     "output_type": "execute_result"
    }
   ],
   "source": [
    "cann['white_viol_poss'].value_counts()"
   ]
  },
  {
   "cell_type": "markdown",
   "metadata": {},
   "source": [
    "The mean of the 'white_viol_poss' feature is assigned to 'white_viol_poss_m', for use in the t-test function that will be run below."
   ]
  },
  {
   "cell_type": "code",
   "execution_count": 138,
   "metadata": {},
   "outputs": [
    {
     "data": {
      "text/plain": [
       "0.0005447117566954153"
      ]
     },
     "execution_count": 138,
     "metadata": {},
     "output_type": "execute_result"
    }
   ],
   "source": [
    "white_viol_poss_m = np.mean(cann['white_viol_poss'])\n",
    "white_viol_poss_m"
   ]
  },
  {
   "cell_type": "markdown",
   "metadata": {},
   "source": [
    "The standard deviation of the 'white_viol_poss' feature is assigned to 'white_viol_poss_std', for use in the t-test function that will be run below."
   ]
  },
  {
   "cell_type": "code",
   "execution_count": 139,
   "metadata": {},
   "outputs": [
    {
     "data": {
      "text/plain": [
       "0.023332703353820677"
      ]
     },
     "execution_count": 139,
     "metadata": {},
     "output_type": "execute_result"
    }
   ],
   "source": [
    "white_viol_poss_std = np.std(cann['white_viol_poss'])\n",
    "white_viol_poss_std"
   ]
  },
  {
   "cell_type": "markdown",
   "metadata": {},
   "source": [
    "The t-test is run using the means and standard deviations of the 'white_misd_poss' and 'white_viol_poss' features, along with the sample size of the White cannabis crime group. The t-score is approximately 1.5 and the p-value is 0.1."
   ]
  },
  {
   "cell_type": "code",
   "execution_count": 140,
   "metadata": {},
   "outputs": [
    {
     "data": {
      "text/plain": [
       "Ttest_indResult(statistic=1.5125385767500596, pvalue=0.13101148742325466)"
      ]
     },
     "execution_count": 140,
     "metadata": {},
     "output_type": "execute_result"
    }
   ],
   "source": [
    "scipy.stats.ttest_ind_from_stats(white_misd_poss_m, white_misd_poss_std, n_white_cann, white_viol_poss_m, white_viol_poss_std, n_white_cann)"
   ]
  },
  {
   "cell_type": "markdown",
   "metadata": {},
   "source": [
    "The 16th null hypothesis is not rejected, so Whites arrested for a cannabis crime are equally likely to be charged for misdemeanor cannabis possession as they are for violation cannabis possession."
   ]
  },
  {
   "cell_type": "markdown",
   "metadata": {},
   "source": [
    "# Likelihood of Violation Cannabis Possession Charges Among African-Americans and Whites: 17th Null Hypothesis"
   ]
  },
  {
   "cell_type": "markdown",
   "metadata": {},
   "source": [
    "To follow up on the 16th null hypothesis not being rejected, the 17th null hypothesis is that African-Americans arrested for a cannabis crime are equally likely to be arrested for violation possession as are Whites arrested for a cannabis crime."
   ]
  },
  {
   "cell_type": "markdown",
   "metadata": {},
   "source": [
    "The t-test is run using the means and standard deviations of the 'af_am_viol_poss' and 'white_viol_poss' features, along with the sample sizes of the African American and White cannabis crime groups. The t-score is approximately 0.9 and the p-value is 0.4."
   ]
  },
  {
   "cell_type": "code",
   "execution_count": 140,
   "metadata": {
    "scrolled": true
   },
   "outputs": [
    {
     "data": {
      "text/plain": [
       "Ttest_indResult(statistic=0.8970641100980942, pvalue=0.3697887733367471)"
      ]
     },
     "execution_count": 140,
     "metadata": {},
     "output_type": "execute_result"
    }
   ],
   "source": [
    "scipy.stats.ttest_ind_from_stats(af_am_viol_poss_m, af_am_viol_poss_std, n_af_am_cann, white_viol_poss_m, white_viol_poss_std, n_white_cann)"
   ]
  },
  {
   "cell_type": "markdown",
   "metadata": {},
   "source": [
    "The 17th null hypothesis here is not rejected, so African-Americans arrested for a cannabis crime are equally likely to be arrested for violation possession as are Whites arrested for a cannabis crime. This suggests that violation possession charges are not charged differently among African-American and White suspects. It bears re-mentioning that violation possession charges are the least severe cannabis crime charges in NYC."
   ]
  },
  {
   "cell_type": "markdown",
   "metadata": {},
   "source": [
    "# Likelihood of Misdemeanor versus Felony Possession for African-Americans: 18th Null Hypothesis"
   ]
  },
  {
   "cell_type": "markdown",
   "metadata": {},
   "source": [
    "The 18th null hypothesis is to look at whether African-Americans arrested for a cannabis crime are equally likely to be arrested for misdemeanor possession as they are for felony possession."
   ]
  },
  {
   "cell_type": "markdown",
   "metadata": {},
   "source": [
    "First, a flag feature is created in the 'cann' DataFrame which flags those felony cannabis possession crimes which were committed by a recorded African-American suspect ('1' for African-American felony cannabis possession and '0' for not African-American felony cannabis possession)."
   ]
  },
  {
   "cell_type": "code",
   "execution_count": 141,
   "metadata": {
    "collapsed": true
   },
   "outputs": [
    {
     "name": "stderr",
     "output_type": "stream",
     "text": [
      "/Users/DanLoew/anaconda3/lib/python3.7/site-packages/ipykernel_launcher.py:2: SettingWithCopyWarning: \n",
      "A value is trying to be set on a copy of a slice from a DataFrame.\n",
      "Try using .loc[row_indexer,col_indexer] = value instead\n",
      "\n",
      "See the caveats in the documentation: http://pandas.pydata.org/pandas-docs/stable/indexing.html#indexing-view-versus-copy\n",
      "  \n"
     ]
    }
   ],
   "source": [
    "af_am_felony_poss = (cann['african_american'] == 1) & (cann['felony_poss'] == 1)\n",
    "cann['af_am_felony_poss'] = af_am_felony_poss.astype(int)"
   ]
  },
  {
   "cell_type": "markdown",
   "metadata": {},
   "source": [
    "There are 42 felony cannabis possession crimes with a recorded African-American suspect."
   ]
  },
  {
   "cell_type": "code",
   "execution_count": 142,
   "metadata": {
    "scrolled": true
   },
   "outputs": [
    {
     "data": {
      "text/plain": [
       "0    21988\n",
       "1       42\n",
       "Name: af_am_felony_poss, dtype: int64"
      ]
     },
     "execution_count": 142,
     "metadata": {},
     "output_type": "execute_result"
    }
   ],
   "source": [
    "cann['af_am_felony_poss'].value_counts()"
   ]
  },
  {
   "cell_type": "markdown",
   "metadata": {},
   "source": [
    "The mean of the 'af_am_felony_poss' feature is assigned to 'af_am_felony_poss_m', for use in the t-test function that will be run below."
   ]
  },
  {
   "cell_type": "code",
   "execution_count": 143,
   "metadata": {},
   "outputs": [
    {
     "data": {
      "text/plain": [
       "0.0019064911484339537"
      ]
     },
     "execution_count": 143,
     "metadata": {},
     "output_type": "execute_result"
    }
   ],
   "source": [
    "af_am_felony_poss_m = np.mean(cann['af_am_felony_poss'])\n",
    "af_am_felony_poss_m"
   ]
  },
  {
   "cell_type": "markdown",
   "metadata": {},
   "source": [
    "The standard deviation of the 'af_am_felony_poss' feature is assigned to 'af_am_felony_poss_std', for use in the t-test function that will be run below."
   ]
  },
  {
   "cell_type": "code",
   "execution_count": 144,
   "metadata": {},
   "outputs": [
    {
     "data": {
      "text/plain": [
       "0.04362174274297742"
      ]
     },
     "execution_count": 144,
     "metadata": {},
     "output_type": "execute_result"
    }
   ],
   "source": [
    "af_am_felony_poss_std = np.std(cann['af_am_felony_poss'])\n",
    "af_am_felony_poss_std"
   ]
  },
  {
   "cell_type": "markdown",
   "metadata": {},
   "source": [
    "The t-test is run using the means and standard deviations of the 'af_am_misd_poss' and 'af_am_felony_poss' features, along with the sample size of the African-American cannabis crime group. The t-score is approximately 11.1 and the p-value is 3.7e-28."
   ]
  },
  {
   "cell_type": "code",
   "execution_count": 145,
   "metadata": {
    "scrolled": true
   },
   "outputs": [
    {
     "data": {
      "text/plain": [
       "Ttest_indResult(statistic=11.098152479679825, pvalue=3.6838426185513833e-28)"
      ]
     },
     "execution_count": 145,
     "metadata": {},
     "output_type": "execute_result"
    }
   ],
   "source": [
    "scipy.stats.ttest_ind_from_stats(af_am_misd_poss_m, af_am_misd_poss_std, n_af_am_cann, af_am_felony_poss_m, af_am_felony_poss_std, n_af_am_cann)"
   ]
  },
  {
   "cell_type": "markdown",
   "metadata": {},
   "source": [
    "The 18th null hypothesis is rejected, so African-Americans arrested for a cannabis crime are NOT equally likely to be arrested for misdemeanor possession as they are for felony possession."
   ]
  },
  {
   "cell_type": "markdown",
   "metadata": {},
   "source": [
    "# Likelihood of Misdemeanor versus Felony Sales for African-Americans: 19th Null Hypothesis"
   ]
  },
  {
   "cell_type": "markdown",
   "metadata": {},
   "source": [
    "The 19th null hypothesis is to look at whether African-Americans arrested for a cannabis crime are equally likely to be arrested for misdemeanor sales as they are for felony sales."
   ]
  },
  {
   "cell_type": "markdown",
   "metadata": {},
   "source": [
    "First, a flag feature is created in the 'cann' DataFrame which flags those misdemeanor cannabis sales crimes which were committed by a recorded African-American suspect ('1' for African-American misdemeanor cannabis sales and '0' for not African-American misdemeanor cannabis sales)."
   ]
  },
  {
   "cell_type": "code",
   "execution_count": 146,
   "metadata": {
    "collapsed": true
   },
   "outputs": [
    {
     "name": "stderr",
     "output_type": "stream",
     "text": [
      "/Users/DanLoew/anaconda3/lib/python3.7/site-packages/ipykernel_launcher.py:2: SettingWithCopyWarning: \n",
      "A value is trying to be set on a copy of a slice from a DataFrame.\n",
      "Try using .loc[row_indexer,col_indexer] = value instead\n",
      "\n",
      "See the caveats in the documentation: http://pandas.pydata.org/pandas-docs/stable/indexing.html#indexing-view-versus-copy\n",
      "  \n"
     ]
    }
   ],
   "source": [
    "af_am_misd_sales = (cann['african_american'] == 1) & (cann['misd_sales'] == 1)\n",
    "cann['af_am_misd_sales'] = af_am_misd_sales.astype(int)"
   ]
  },
  {
   "cell_type": "markdown",
   "metadata": {},
   "source": [
    "There are 108 misdemeanor cannabis sales crimes with a recorded African-American suspect."
   ]
  },
  {
   "cell_type": "code",
   "execution_count": 147,
   "metadata": {
    "scrolled": false
   },
   "outputs": [
    {
     "data": {
      "text/plain": [
       "0    21922\n",
       "1      108\n",
       "Name: af_am_misd_sales, dtype: int64"
      ]
     },
     "execution_count": 147,
     "metadata": {},
     "output_type": "execute_result"
    }
   ],
   "source": [
    "cann['af_am_misd_sales'].value_counts()"
   ]
  },
  {
   "cell_type": "markdown",
   "metadata": {},
   "source": [
    "The mean of the 'af_am_misd_sales' feature is assigned to 'af_am_misd_sales_m', for use in the t-test function that will be run below."
   ]
  },
  {
   "cell_type": "code",
   "execution_count": 148,
   "metadata": {},
   "outputs": [
    {
     "data": {
      "text/plain": [
       "0.004902405810258738"
      ]
     },
     "execution_count": 148,
     "metadata": {},
     "output_type": "execute_result"
    }
   ],
   "source": [
    "af_am_misd_sales_m = np.mean(cann['af_am_misd_sales'])\n",
    "af_am_misd_sales_m"
   ]
  },
  {
   "cell_type": "markdown",
   "metadata": {},
   "source": [
    "The standard deviation of the 'af_am_misd_sales' feature is assigned to 'af_am_misd_sales_std', for use in the t-test function that will be run below."
   ]
  },
  {
   "cell_type": "code",
   "execution_count": 149,
   "metadata": {},
   "outputs": [
    {
     "data": {
      "text/plain": [
       "0.0698453450670224"
      ]
     },
     "execution_count": 149,
     "metadata": {},
     "output_type": "execute_result"
    }
   ],
   "source": [
    "af_am_misd_sales_std = np.std(cann['af_am_misd_sales'])\n",
    "af_am_misd_sales_std"
   ]
  },
  {
   "cell_type": "markdown",
   "metadata": {},
   "source": [
    "A flag feature is created in the 'cann' DataFrame which flags those felony cannabis sales crimes which were committed by a recorded African-American suspect ('1' for African-American felony cannabis sales and '0' for not African-American felony cannabis sales)."
   ]
  },
  {
   "cell_type": "code",
   "execution_count": 150,
   "metadata": {
    "collapsed": true
   },
   "outputs": [
    {
     "name": "stderr",
     "output_type": "stream",
     "text": [
      "/Users/DanLoew/anaconda3/lib/python3.7/site-packages/ipykernel_launcher.py:2: SettingWithCopyWarning: \n",
      "A value is trying to be set on a copy of a slice from a DataFrame.\n",
      "Try using .loc[row_indexer,col_indexer] = value instead\n",
      "\n",
      "See the caveats in the documentation: http://pandas.pydata.org/pandas-docs/stable/indexing.html#indexing-view-versus-copy\n",
      "  \n"
     ]
    }
   ],
   "source": [
    "af_am_felony_sales = (cann['african_american'] == 1) & (cann['felony_sales'] == 1)\n",
    "cann['af_am_felony_sales'] = af_am_felony_sales.astype(int)"
   ]
  },
  {
   "cell_type": "markdown",
   "metadata": {},
   "source": [
    "There are 11 felony cannabis sales crimes with a recorded African-American suspect."
   ]
  },
  {
   "cell_type": "code",
   "execution_count": 151,
   "metadata": {
    "scrolled": false
   },
   "outputs": [
    {
     "data": {
      "text/plain": [
       "0    22019\n",
       "1       11\n",
       "Name: af_am_felony_sales, dtype: int64"
      ]
     },
     "execution_count": 151,
     "metadata": {},
     "output_type": "execute_result"
    }
   ],
   "source": [
    "cann['af_am_felony_sales'].value_counts()"
   ]
  },
  {
   "cell_type": "markdown",
   "metadata": {},
   "source": [
    "The mean of the 'af_am_felony_sales' feature is assigned to 'af_am_felony_sales_m', for use in the t-test function that will be run below."
   ]
  },
  {
   "cell_type": "code",
   "execution_count": 152,
   "metadata": {},
   "outputs": [
    {
     "data": {
      "text/plain": [
       "0.0004993191103041308"
      ]
     },
     "execution_count": 152,
     "metadata": {},
     "output_type": "execute_result"
    }
   ],
   "source": [
    "af_am_felony_sales_m = np.mean(cann['af_am_felony_sales'])\n",
    "af_am_felony_sales_m"
   ]
  },
  {
   "cell_type": "markdown",
   "metadata": {},
   "source": [
    "The standard deviation of the 'af_am_felony_sales' feature is assigned to 'af_am_felony_sales_std', for use in the t-test function that will be run below."
   ]
  },
  {
   "cell_type": "code",
   "execution_count": 153,
   "metadata": {},
   "outputs": [
    {
     "data": {
      "text/plain": [
       "0.0223398699801565"
      ]
     },
     "execution_count": 153,
     "metadata": {},
     "output_type": "execute_result"
    }
   ],
   "source": [
    "af_am_felony_sales_std = np.std(cann['af_am_felony_sales'])\n",
    "af_am_felony_sales_std"
   ]
  },
  {
   "cell_type": "markdown",
   "metadata": {},
   "source": [
    "The t-test is run using the means and standard deviations of the 'af_am_misd_sales' and 'af_am_felony_sales' features, along with the sample size of the African-American cannabis crime group. The t-score is approximately 2.5 and the p-value is 0.01."
   ]
  },
  {
   "cell_type": "code",
   "execution_count": 155,
   "metadata": {},
   "outputs": [
    {
     "data": {
      "text/plain": [
       "Ttest_indResult(statistic=2.5361024521197204, pvalue=0.011251721921620172)"
      ]
     },
     "execution_count": 155,
     "metadata": {},
     "output_type": "execute_result"
    }
   ],
   "source": [
    "scipy.stats.ttest_ind_from_stats(af_am_misd_sales_m, af_am_misd_sales_std, n_af_am_cann, af_am_felony_sales_m, af_am_felony_sales_std, n_af_am_cann)"
   ]
  },
  {
   "cell_type": "markdown",
   "metadata": {},
   "source": [
    "The 19th null hypothesis is rejected, so African-Americans arrested for a cannabis crime are NOT equally likely to be arrested for misdemeanor sales as they are for felony sales."
   ]
  },
  {
   "cell_type": "markdown",
   "metadata": {},
   "source": [
    "# Likelihood of Cannabis Arrests in the Bronx and Manhattan: 20th Null Hypothesis"
   ]
  },
  {
   "cell_type": "markdown",
   "metadata": {},
   "source": [
    "The next subject for hypothesis testing involves geography. The machine learning phase of this project will go into more depth with geographic location as a differential predictive factor for cannabis arrests and their sub-types, but the next series of hypothesis tests start with geographical predictors by looking at borough. Therefore, the 20th null hypothesis is that cannabis arrests are equally as likely to happen in the Bronx as they are in Manhattan. "
   ]
  },
  {
   "cell_type": "markdown",
   "metadata": {},
   "source": [
    "The borough feature's value counts for the cannabis group is first called."
   ]
  },
  {
   "cell_type": "code",
   "execution_count": 156,
   "metadata": {},
   "outputs": [
    {
     "data": {
      "text/plain": [
       "BRONX            8663\n",
       "BROOKLYN         7164\n",
       "MANHATTAN        4674\n",
       "QUEENS            939\n",
       "STATEN ISLAND     575\n",
       "unknown            15\n",
       "Name: BORO_NM, dtype: int64"
      ]
     },
     "execution_count": 156,
     "metadata": {},
     "output_type": "execute_result"
    }
   ],
   "source": [
    "cann['BORO_NM'].value_counts()"
   ]
  },
  {
   "cell_type": "markdown",
   "metadata": {},
   "source": [
    "First, a flag feature is created in the 'cann' DataFrame which flags those cannabis crimes which were committed in the Bronx ('1' for Bronx cannabis crimes and '0' for cannabis crimes outside of the Bronx)."
   ]
  },
  {
   "cell_type": "code",
   "execution_count": 157,
   "metadata": {
    "collapsed": true
   },
   "outputs": [
    {
     "name": "stderr",
     "output_type": "stream",
     "text": [
      "/Users/DanLoew/anaconda3/lib/python3.7/site-packages/ipykernel_launcher.py:2: SettingWithCopyWarning: \n",
      "A value is trying to be set on a copy of a slice from a DataFrame.\n",
      "Try using .loc[row_indexer,col_indexer] = value instead\n",
      "\n",
      "See the caveats in the documentation: http://pandas.pydata.org/pandas-docs/stable/indexing.html#indexing-view-versus-copy\n",
      "  \n"
     ]
    }
   ],
   "source": [
    "bronx_cann = cann['BORO_NM'] == 'BRONX'\n",
    "cann['bronx_cann'] = bronx_cann.astype(int)"
   ]
  },
  {
   "cell_type": "markdown",
   "metadata": {},
   "source": [
    "In the sample, there are 8,663 cannabis crimes that occurred in the Bronx."
   ]
  },
  {
   "cell_type": "code",
   "execution_count": 159,
   "metadata": {
    "scrolled": true
   },
   "outputs": [
    {
     "data": {
      "text/plain": [
       "0    13367\n",
       "1     8663\n",
       "Name: bronx_cann, dtype: int64"
      ]
     },
     "execution_count": 159,
     "metadata": {},
     "output_type": "execute_result"
    }
   ],
   "source": [
    "cann['bronx_cann'].value_counts()"
   ]
  },
  {
   "cell_type": "markdown",
   "metadata": {},
   "source": [
    "The mean of the 'bronx_cann' feature is assigned to 'bronx_cann_m', for use in the t-test function that will be run below."
   ]
  },
  {
   "cell_type": "code",
   "execution_count": 160,
   "metadata": {},
   "outputs": [
    {
     "data": {
      "text/plain": [
       "0.3932364956876986"
      ]
     },
     "execution_count": 160,
     "metadata": {},
     "output_type": "execute_result"
    }
   ],
   "source": [
    "bronx_cann_m = np.mean(cann['bronx_cann'])\n",
    "bronx_cann_m"
   ]
  },
  {
   "cell_type": "markdown",
   "metadata": {},
   "source": [
    "The standard deviation of the 'bronx_cann' feature is assigned to 'bronx_cann_std', for use in the t-test function that will be run below."
   ]
  },
  {
   "cell_type": "code",
   "execution_count": 161,
   "metadata": {},
   "outputs": [
    {
     "data": {
      "text/plain": [
       "0.4884685805115633"
      ]
     },
     "execution_count": 161,
     "metadata": {},
     "output_type": "execute_result"
    }
   ],
   "source": [
    "bronx_cann_std = np.std(cann['bronx_cann'])\n",
    "bronx_cann_std"
   ]
  },
  {
   "cell_type": "markdown",
   "metadata": {},
   "source": [
    "First, a flag feature is created in the 'cann' DataFrame which flags those cannabis crimes which were committed in Manhattan ('1' for Manhattan cannabis crimes and '0' for cannabis crimes outside of Manhattan)."
   ]
  },
  {
   "cell_type": "code",
   "execution_count": 162,
   "metadata": {
    "collapsed": true
   },
   "outputs": [
    {
     "name": "stderr",
     "output_type": "stream",
     "text": [
      "/Users/DanLoew/anaconda3/lib/python3.7/site-packages/ipykernel_launcher.py:2: SettingWithCopyWarning: \n",
      "A value is trying to be set on a copy of a slice from a DataFrame.\n",
      "Try using .loc[row_indexer,col_indexer] = value instead\n",
      "\n",
      "See the caveats in the documentation: http://pandas.pydata.org/pandas-docs/stable/indexing.html#indexing-view-versus-copy\n",
      "  \n"
     ]
    }
   ],
   "source": [
    "manhattan_cann = cann['BORO_NM'] == 'MANHATTAN'\n",
    "cann['manhattan_cann'] = manhattan_cann.astype(int)"
   ]
  },
  {
   "cell_type": "markdown",
   "metadata": {},
   "source": [
    "In the sample, there are 4,674 cannabis crimes that occurred in Manhattan."
   ]
  },
  {
   "cell_type": "code",
   "execution_count": 165,
   "metadata": {
    "scrolled": true
   },
   "outputs": [
    {
     "data": {
      "text/plain": [
       "0    17356\n",
       "1     4674\n",
       "Name: manhattan_cann, dtype: int64"
      ]
     },
     "execution_count": 165,
     "metadata": {},
     "output_type": "execute_result"
    }
   ],
   "source": [
    "cann['manhattan_cann'].value_counts()"
   ]
  },
  {
   "cell_type": "markdown",
   "metadata": {},
   "source": [
    "The mean of the 'manhattan_cann' feature is assigned to 'manhattan_cann_m', for use in the t-test function that will be run below."
   ]
  },
  {
   "cell_type": "code",
   "execution_count": 166,
   "metadata": {},
   "outputs": [
    {
     "data": {
      "text/plain": [
       "0.21216522923286427"
      ]
     },
     "execution_count": 166,
     "metadata": {},
     "output_type": "execute_result"
    }
   ],
   "source": [
    "manhattan_cann_m = np.mean(cann['manhattan_cann'])\n",
    "manhattan_cann_m"
   ]
  },
  {
   "cell_type": "markdown",
   "metadata": {},
   "source": [
    "The standard deviation of the 'manhattan_cann' feature is assigned to 'manhattan_cann_std', for use in the t-test function that will be run below."
   ]
  },
  {
   "cell_type": "code",
   "execution_count": 167,
   "metadata": {},
   "outputs": [
    {
     "data": {
      "text/plain": [
       "0.40884122191564554"
      ]
     },
     "execution_count": 167,
     "metadata": {},
     "output_type": "execute_result"
    }
   ],
   "source": [
    "manhattan_cann_std = np.std(cann['manhattan_cann'])\n",
    "manhattan_cann_std"
   ]
  },
  {
   "cell_type": "markdown",
   "metadata": {},
   "source": [
    "The t-test is run using the means and standard deviations of the 'bronx_cann' and 'manhattan_cann' features, along with the sample size of the cannabis crime group. The t-score is approximately 42.2 and the p-value is 0."
   ]
  },
  {
   "cell_type": "code",
   "execution_count": 169,
   "metadata": {
    "scrolled": true
   },
   "outputs": [
    {
     "data": {
      "text/plain": [
       "Ttest_indResult(statistic=42.19160816065755, pvalue=0.0)"
      ]
     },
     "execution_count": 169,
     "metadata": {},
     "output_type": "execute_result"
    }
   ],
   "source": [
    "scipy.stats.ttest_ind_from_stats(bronx_cann_m, bronx_cann_std, n_cann, manhattan_cann_m, manhattan_cann_std, n_cann)"
   ]
  },
  {
   "cell_type": "markdown",
   "metadata": {},
   "source": [
    "The 20th null hypothesis is rejected, so cannabis arrests are NOT equally as likely to happen in the Bronx as they are in Manhattan."
   ]
  },
  {
   "cell_type": "markdown",
   "metadata": {},
   "source": [
    "# Likelihood of Cannabis Arrests in the Bronx and Brooklyn: 21st Null Hypothesis"
   ]
  },
  {
   "cell_type": "markdown",
   "metadata": {},
   "source": [
    "The 21st null hypothesis is that cannabis arrests are equally as likely to happen in the Bronx as they are in Brooklyn."
   ]
  },
  {
   "cell_type": "markdown",
   "metadata": {},
   "source": [
    "First, a flag feature is created in the 'cann' DataFrame which flags those cannabis crimes which were committed in Brooklyn ('1' for Brooklyn cannabis crimes and '0' for cannabis crimes outside of Brooklyn)."
   ]
  },
  {
   "cell_type": "code",
   "execution_count": 170,
   "metadata": {
    "collapsed": true
   },
   "outputs": [
    {
     "name": "stderr",
     "output_type": "stream",
     "text": [
      "/Users/DanLoew/anaconda3/lib/python3.7/site-packages/ipykernel_launcher.py:2: SettingWithCopyWarning: \n",
      "A value is trying to be set on a copy of a slice from a DataFrame.\n",
      "Try using .loc[row_indexer,col_indexer] = value instead\n",
      "\n",
      "See the caveats in the documentation: http://pandas.pydata.org/pandas-docs/stable/indexing.html#indexing-view-versus-copy\n",
      "  \n"
     ]
    }
   ],
   "source": [
    "brooklyn_cann = cann['BORO_NM'] == 'BROOKLYN'\n",
    "cann['brooklyn_cann'] = brooklyn_cann.astype(int)"
   ]
  },
  {
   "cell_type": "markdown",
   "metadata": {},
   "source": [
    "In the sample, there are 7,164 cannabis crimes that occurred in Brooklyn."
   ]
  },
  {
   "cell_type": "code",
   "execution_count": 172,
   "metadata": {
    "scrolled": true
   },
   "outputs": [
    {
     "data": {
      "text/plain": [
       "0    14866\n",
       "1     7164\n",
       "Name: brooklyn_cann, dtype: int64"
      ]
     },
     "execution_count": 172,
     "metadata": {},
     "output_type": "execute_result"
    }
   ],
   "source": [
    "cann['brooklyn_cann'].value_counts()"
   ]
  },
  {
   "cell_type": "markdown",
   "metadata": {},
   "source": [
    "The mean of the 'brooklyn_cann' feature is assigned to 'brooklyn_cann_m', for use in the t-test function that will be run below."
   ]
  },
  {
   "cell_type": "code",
   "execution_count": 173,
   "metadata": {},
   "outputs": [
    {
     "data": {
      "text/plain": [
       "0.32519291874716294"
      ]
     },
     "execution_count": 173,
     "metadata": {},
     "output_type": "execute_result"
    }
   ],
   "source": [
    "brooklyn_cann_m = np.mean(cann['brooklyn_cann'])\n",
    "brooklyn_cann_m"
   ]
  },
  {
   "cell_type": "markdown",
   "metadata": {},
   "source": [
    "The standard deviation of the 'brooklyn_cann' feature is assigned to 'brooklyn_cann_std', for use in the t-test function that will be run below."
   ]
  },
  {
   "cell_type": "code",
   "execution_count": 174,
   "metadata": {},
   "outputs": [
    {
     "data": {
      "text/plain": [
       "0.4684468852964487"
      ]
     },
     "execution_count": 174,
     "metadata": {},
     "output_type": "execute_result"
    }
   ],
   "source": [
    "brooklyn_cann_std = np.std(cann['brooklyn_cann'])\n",
    "brooklyn_cann_std"
   ]
  },
  {
   "cell_type": "markdown",
   "metadata": {},
   "source": [
    "The t-test is run using the means and standard deviations of the 'bronx_cann' and 'brooklyn_cann' features, along with the sample size of the cannabis crime group. The t-score is approximately 14.9 and the p-value is 3.1e-50."
   ]
  },
  {
   "cell_type": "code",
   "execution_count": 176,
   "metadata": {},
   "outputs": [
    {
     "data": {
      "text/plain": [
       "Ttest_indResult(statistic=14.922471795513756, pvalue=3.123682217096033e-50)"
      ]
     },
     "execution_count": 176,
     "metadata": {},
     "output_type": "execute_result"
    }
   ],
   "source": [
    "scipy.stats.ttest_ind_from_stats(bronx_cann_m, bronx_cann_std, n_cann, brooklyn_cann_m, brooklyn_cann_std, n_cann)"
   ]
  },
  {
   "cell_type": "markdown",
   "metadata": {},
   "source": [
    "The 21st null hypothesis is rejected, so cannabis arrests are NOT equally as likely to happen in the Bronx as they are in Brooklyn."
   ]
  },
  {
   "cell_type": "markdown",
   "metadata": {},
   "source": [
    "# Likelihood of Cannabis Arrests in the Bronx and Queens: 22nd Null Hypothesis"
   ]
  },
  {
   "cell_type": "markdown",
   "metadata": {},
   "source": [
    "The 22nd null hypothesis is that cannabis arrests are equally as likely to happen in the Bronx as they are in Queens."
   ]
  },
  {
   "cell_type": "markdown",
   "metadata": {},
   "source": [
    "First, a flag feature is created in the 'cann' DataFrame which flags those cannabis crimes which were committed in Queens ('1' for Queens cannabis crimes and '0' for cannabis crimes outside of Queens)."
   ]
  },
  {
   "cell_type": "code",
   "execution_count": 177,
   "metadata": {
    "collapsed": true
   },
   "outputs": [
    {
     "name": "stderr",
     "output_type": "stream",
     "text": [
      "/Users/DanLoew/anaconda3/lib/python3.7/site-packages/ipykernel_launcher.py:2: SettingWithCopyWarning: \n",
      "A value is trying to be set on a copy of a slice from a DataFrame.\n",
      "Try using .loc[row_indexer,col_indexer] = value instead\n",
      "\n",
      "See the caveats in the documentation: http://pandas.pydata.org/pandas-docs/stable/indexing.html#indexing-view-versus-copy\n",
      "  \n"
     ]
    }
   ],
   "source": [
    "queens_cann = cann['BORO_NM'] == 'QUEENS'\n",
    "cann['queens_cann'] = queens_cann.astype(int)"
   ]
  },
  {
   "cell_type": "markdown",
   "metadata": {},
   "source": [
    "In the sample, there are 939 cannabis crimes that occurred in Queens."
   ]
  },
  {
   "cell_type": "code",
   "execution_count": 179,
   "metadata": {
    "scrolled": true
   },
   "outputs": [
    {
     "data": {
      "text/plain": [
       "0    21091\n",
       "1      939\n",
       "Name: queens_cann, dtype: int64"
      ]
     },
     "execution_count": 179,
     "metadata": {},
     "output_type": "execute_result"
    }
   ],
   "source": [
    "cann['queens_cann'].value_counts()"
   ]
  },
  {
   "cell_type": "markdown",
   "metadata": {},
   "source": [
    "The mean of the 'queens_cann' feature is assigned to 'queens_cann_m', for use in the t-test function that will be run below."
   ]
  },
  {
   "cell_type": "code",
   "execution_count": 180,
   "metadata": {},
   "outputs": [
    {
     "data": {
      "text/plain": [
       "0.04262369496141625"
      ]
     },
     "execution_count": 180,
     "metadata": {},
     "output_type": "execute_result"
    }
   ],
   "source": [
    "queens_cann_m = np.mean(cann['queens_cann'])\n",
    "queens_cann_m"
   ]
  },
  {
   "cell_type": "markdown",
   "metadata": {},
   "source": [
    "The standard deviation of the 'queens_cann' feature is assigned to 'queens_cann_std', for use in the t-test function that will be run below."
   ]
  },
  {
   "cell_type": "code",
   "execution_count": 181,
   "metadata": {},
   "outputs": [
    {
     "data": {
      "text/plain": [
       "0.20200721667614016"
      ]
     },
     "execution_count": 181,
     "metadata": {},
     "output_type": "execute_result"
    }
   ],
   "source": [
    "queens_cann_std = np.std(cann['queens_cann'])\n",
    "queens_cann_std"
   ]
  },
  {
   "cell_type": "markdown",
   "metadata": {},
   "source": [
    "The t-test is run using the means and standard deviations of the 'bronx_cann' and 'queens_cann' features, along with the sample size of the cannabis crime group. The t-score is approximately 98.5 and the p-value is 0."
   ]
  },
  {
   "cell_type": "code",
   "execution_count": 182,
   "metadata": {},
   "outputs": [
    {
     "data": {
      "text/plain": [
       "Ttest_indResult(statistic=98.44988952598659, pvalue=0.0)"
      ]
     },
     "execution_count": 182,
     "metadata": {},
     "output_type": "execute_result"
    }
   ],
   "source": [
    "scipy.stats.ttest_ind_from_stats(bronx_cann_m, bronx_cann_std, n_cann, queens_cann_m, queens_cann_std, n_cann)"
   ]
  },
  {
   "cell_type": "markdown",
   "metadata": {},
   "source": [
    "The 22nd null hypothesis is rejected, so cannabis arrests are NOT equally as likely to happen in the Bronx as they are in Queens."
   ]
  },
  {
   "cell_type": "markdown",
   "metadata": {},
   "source": [
    "# Likelihood of Cannabis Arrests in the Bronx and Staten Island: 23rd Null Hypothesis"
   ]
  },
  {
   "cell_type": "markdown",
   "metadata": {},
   "source": [
    "The 23rd null hypothesis is that cannabis arrests are equally as likely to happen in the Bronx as they are in Staten Island."
   ]
  },
  {
   "cell_type": "markdown",
   "metadata": {},
   "source": [
    "First, a flag feature is created in the 'cann' DataFrame which flags those cannabis crimes which were committed in Staten Island ('1' for Staten Island cannabis crimes and '0' for cannabis crimes outside of Staten Island)."
   ]
  },
  {
   "cell_type": "code",
   "execution_count": 184,
   "metadata": {
    "collapsed": true
   },
   "outputs": [
    {
     "name": "stderr",
     "output_type": "stream",
     "text": [
      "/Users/DanLoew/anaconda3/lib/python3.7/site-packages/ipykernel_launcher.py:2: SettingWithCopyWarning: \n",
      "A value is trying to be set on a copy of a slice from a DataFrame.\n",
      "Try using .loc[row_indexer,col_indexer] = value instead\n",
      "\n",
      "See the caveats in the documentation: http://pandas.pydata.org/pandas-docs/stable/indexing.html#indexing-view-versus-copy\n",
      "  \n"
     ]
    }
   ],
   "source": [
    "staten_cann = cann['BORO_NM'] == 'STATEN ISLAND'\n",
    "cann['staten_cann'] = staten_cann.astype(int)"
   ]
  },
  {
   "cell_type": "markdown",
   "metadata": {},
   "source": [
    "In the sample, there are 575 cannabis crimes that occurred in Staten Island."
   ]
  },
  {
   "cell_type": "code",
   "execution_count": 185,
   "metadata": {
    "scrolled": true
   },
   "outputs": [
    {
     "data": {
      "text/plain": [
       "0    21455\n",
       "1      575\n",
       "Name: staten_cann, dtype: int64"
      ]
     },
     "execution_count": 185,
     "metadata": {},
     "output_type": "execute_result"
    }
   ],
   "source": [
    "cann['staten_cann'].value_counts()"
   ]
  },
  {
   "cell_type": "markdown",
   "metadata": {},
   "source": [
    "The mean of the 'staten_cann' feature is assigned to 'staten_cann_m', for use in the t-test function that will be run below."
   ]
  },
  {
   "cell_type": "code",
   "execution_count": 186,
   "metadata": {
    "scrolled": true
   },
   "outputs": [
    {
     "data": {
      "text/plain": [
       "0.026100771674988654"
      ]
     },
     "execution_count": 186,
     "metadata": {},
     "output_type": "execute_result"
    }
   ],
   "source": [
    "staten_cann_m = np.mean(cann['staten_cann'])\n",
    "staten_cann_m"
   ]
  },
  {
   "cell_type": "markdown",
   "metadata": {},
   "source": [
    "The standard deviation of the 'staten_cann' feature is assigned to 'staten_cann_std', for use in the t-test function that will be run below."
   ]
  },
  {
   "cell_type": "code",
   "execution_count": 187,
   "metadata": {},
   "outputs": [
    {
     "data": {
      "text/plain": [
       "0.15943500679886"
      ]
     },
     "execution_count": 187,
     "metadata": {},
     "output_type": "execute_result"
    }
   ],
   "source": [
    "staten_cann_std = np.std(cann['staten_cann'])\n",
    "staten_cann_std"
   ]
  },
  {
   "cell_type": "markdown",
   "metadata": {},
   "source": [
    "The t-test is run using the means and standard deviations of the 'bronx_cann' and 'staten_cann' features, along with the sample size of the cannabis crime group. The t-score is approximately 106.1 and the p-value is 0."
   ]
  },
  {
   "cell_type": "code",
   "execution_count": 189,
   "metadata": {},
   "outputs": [
    {
     "data": {
      "text/plain": [
       "Ttest_indResult(statistic=106.05095800776438, pvalue=0.0)"
      ]
     },
     "execution_count": 189,
     "metadata": {},
     "output_type": "execute_result"
    }
   ],
   "source": [
    "scipy.stats.ttest_ind_from_stats(bronx_cann_m, bronx_cann_std, n_cann, staten_cann_m, staten_cann_std, n_cann)"
   ]
  },
  {
   "cell_type": "markdown",
   "metadata": {},
   "source": [
    "The 23rd null hypothesis is rejected, so cannabis arrests are NOT equally as likely to happen in the Bronx as they are in Staten Island."
   ]
  },
  {
   "cell_type": "markdown",
   "metadata": {},
   "source": [
    "# Likelihood of Cannabis Arrests in Manhattan and Brooklyn: 24th Null Hypothesis"
   ]
  },
  {
   "cell_type": "markdown",
   "metadata": {},
   "source": [
    "The 24th null hypothesis is that cannabis arrests are equally as likely to happen in Manhattan as they are in Brooklyn."
   ]
  },
  {
   "cell_type": "markdown",
   "metadata": {},
   "source": [
    "The t-test is run using the means and standard deviations of the 'manhattan_cann' and 'brooklyn_cann' features, along with the sample size of the cannabis crime group. The t-score is approximately -27 and the p-value is 4.8e-159."
   ]
  },
  {
   "cell_type": "code",
   "execution_count": 191,
   "metadata": {
    "scrolled": true
   },
   "outputs": [
    {
     "data": {
      "text/plain": [
       "Ttest_indResult(statistic=-26.98141688192628, pvalue=4.821290618883564e-159)"
      ]
     },
     "execution_count": 191,
     "metadata": {},
     "output_type": "execute_result"
    }
   ],
   "source": [
    "scipy.stats.ttest_ind_from_stats(manhattan_cann_m, manhattan_cann_std, n_cann, brooklyn_cann_m, brooklyn_cann_std, n_cann)"
   ]
  },
  {
   "cell_type": "markdown",
   "metadata": {},
   "source": [
    "The 24th null hypothesis is rejected, so cannabis arrests are NOT equally as likely to happen in Manhattan as they are in Brooklyn."
   ]
  },
  {
   "cell_type": "markdown",
   "metadata": {},
   "source": [
    "# Likelihood of Cannabis Arrests in Manhattan and Queens: 25th Null Hypothesis"
   ]
  },
  {
   "cell_type": "markdown",
   "metadata": {},
   "source": [
    "The 25th null hypothesis is that cannabis arrests are equally as likely to happen in Manhattan as they are in Queens."
   ]
  },
  {
   "cell_type": "markdown",
   "metadata": {},
   "source": [
    "The t-test is run using the means and standard deviations of the 'manhattan_cann' and 'queens_cann' features, along with the sample size of the cannabis crime group. The t-score is approximately 55.2 and the p-value is 0."
   ]
  },
  {
   "cell_type": "code",
   "execution_count": 193,
   "metadata": {},
   "outputs": [
    {
     "data": {
      "text/plain": [
       "Ttest_indResult(statistic=55.18175117654442, pvalue=0.0)"
      ]
     },
     "execution_count": 193,
     "metadata": {},
     "output_type": "execute_result"
    }
   ],
   "source": [
    "scipy.stats.ttest_ind_from_stats(manhattan_cann_m, manhattan_cann_std, n_cann, queens_cann_m, queens_cann_std, n_cann)"
   ]
  },
  {
   "cell_type": "markdown",
   "metadata": {},
   "source": [
    "The 25th null hypothesis is rejected, so cannabis arrests are NOT equally as likely to happen in Manhattan as they are in Queens."
   ]
  },
  {
   "cell_type": "markdown",
   "metadata": {},
   "source": [
    "# Likelihood of Cannabis Arrests in Manhattan and Staten Island: 26th Null Hypothesis"
   ]
  },
  {
   "cell_type": "markdown",
   "metadata": {},
   "source": [
    "The 26th null hypothesis is that cannabis arrests are equally as likely to happen in Manhattan as they are in Staten Island."
   ]
  },
  {
   "cell_type": "markdown",
   "metadata": {},
   "source": [
    "The t-test is run using the means and standard deviations of the 'manhattan_cann' and 'staten_cann' features, along with the sample size of the cannabis crime group. The t-score is approximately 62.9 and the p-value is 0."
   ]
  },
  {
   "cell_type": "code",
   "execution_count": 195,
   "metadata": {
    "scrolled": true
   },
   "outputs": [
    {
     "data": {
      "text/plain": [
       "Ttest_indResult(statistic=62.93258968480057, pvalue=0.0)"
      ]
     },
     "execution_count": 195,
     "metadata": {},
     "output_type": "execute_result"
    }
   ],
   "source": [
    "scipy.stats.ttest_ind_from_stats(manhattan_cann_m, manhattan_cann_std, n_cann, staten_cann_m, staten_cann_std, n_cann)"
   ]
  },
  {
   "cell_type": "markdown",
   "metadata": {},
   "source": [
    "The 26th null hypothesis is rejected, so cannabis arrests are NOT equally as likely to happen in Manhattan as they are in Staten Island."
   ]
  },
  {
   "cell_type": "markdown",
   "metadata": {},
   "source": [
    "# Likelihood of Cannabis Arrests in Brooklyn and Queens: 27th Null Hypothesis"
   ]
  },
  {
   "cell_type": "markdown",
   "metadata": {},
   "source": [
    "The 27th null hypothesis is that cannabis arrests are equally as likely to happen in Brooklyn as they are in Queens."
   ]
  },
  {
   "cell_type": "markdown",
   "metadata": {},
   "source": [
    "The t-test is run using the means and standard deviations of the 'brooklyn_cann' and 'queens_cann' features, along with the sample size of the cannabis crime group. The t-score is approximately 82.2 and the p-value is 0."
   ]
  },
  {
   "cell_type": "code",
   "execution_count": 197,
   "metadata": {},
   "outputs": [
    {
     "data": {
      "text/plain": [
       "Ttest_indResult(statistic=82.21238337492828, pvalue=0.0)"
      ]
     },
     "execution_count": 197,
     "metadata": {},
     "output_type": "execute_result"
    }
   ],
   "source": [
    "scipy.stats.ttest_ind_from_stats(brooklyn_cann_m, brooklyn_cann_std, n_cann, queens_cann_m, queens_cann_std, n_cann)"
   ]
  },
  {
   "cell_type": "markdown",
   "metadata": {},
   "source": [
    "The 27th null hypothesis is rejected, so cannabis arrests are NOT equally as likely to happen in Brooklyn as they are in Queens."
   ]
  },
  {
   "cell_type": "markdown",
   "metadata": {},
   "source": [
    "# Likelihood of Cannabis Arrests in Brooklyn and Staten Island: 28th Null Hypothesis"
   ]
  },
  {
   "cell_type": "markdown",
   "metadata": {},
   "source": [
    "The 28th null hypothesis is that cannabis arrests are equally as likely to happen in Brooklyn as they are in Staten Island."
   ]
  },
  {
   "cell_type": "markdown",
   "metadata": {},
   "source": [
    "The t-test is run using the means and standard deviations of the 'brooklyn_cann' and 'staten_cann' features, along with the sample size of the cannabis crime group. The t-score is approximately 89.7 and the p-value is 0."
   ]
  },
  {
   "cell_type": "code",
   "execution_count": 199,
   "metadata": {},
   "outputs": [
    {
     "data": {
      "text/plain": [
       "Ttest_indResult(statistic=89.71221047700361, pvalue=0.0)"
      ]
     },
     "execution_count": 199,
     "metadata": {},
     "output_type": "execute_result"
    }
   ],
   "source": [
    "scipy.stats.ttest_ind_from_stats(brooklyn_cann_m, brooklyn_cann_std, n_cann, staten_cann_m, staten_cann_std, n_cann)"
   ]
  },
  {
   "cell_type": "markdown",
   "metadata": {},
   "source": [
    "The 28th null hypothesis is rejected, so cannabis arrests are NOT equally as likely to happen in Brooklyn as they are in Staten Island."
   ]
  },
  {
   "cell_type": "markdown",
   "metadata": {},
   "source": [
    "# Likelihood of Cannabis Arrests in Queens and Staten Island: 29th Null Hypothesis"
   ]
  },
  {
   "cell_type": "markdown",
   "metadata": {},
   "source": [
    "The next null hypothesis is that cannabis arrests are equally as likely to happen in Queens as they are in Staten Island."
   ]
  },
  {
   "cell_type": "markdown",
   "metadata": {},
   "source": [
    "The t-test is run using the means and standard deviations of the 'queens_cann' and 'staten_cann' features, along with the sample size of the cannabis crime group. The t-score is approximately 9.5 and the p-value is 1.7e-21."
   ]
  },
  {
   "cell_type": "code",
   "execution_count": 201,
   "metadata": {},
   "outputs": [
    {
     "data": {
      "text/plain": [
       "Ttest_indResult(statistic=9.529682683533519, pvalue=1.654821103194533e-21)"
      ]
     },
     "execution_count": 201,
     "metadata": {},
     "output_type": "execute_result"
    }
   ],
   "source": [
    "scipy.stats.ttest_ind_from_stats(queens_cann_m, queens_cann_std, n_cann, staten_cann_m, staten_cann_std, n_cann)"
   ]
  },
  {
   "cell_type": "markdown",
   "metadata": {},
   "source": [
    "The 29th null hypothesis is rejected, so cannabis arrests are NOT equally as likely to happen in Queens as they are in Staten Island."
   ]
  }
 ],
 "metadata": {
  "kernelspec": {
   "display_name": "Python 3",
   "language": "python",
   "name": "python3"
  },
  "language_info": {
   "codemirror_mode": {
    "name": "ipython",
    "version": 3
   },
   "file_extension": ".py",
   "mimetype": "text/x-python",
   "name": "python",
   "nbconvert_exporter": "python",
   "pygments_lexer": "ipython3",
   "version": "3.7.3"
  }
 },
 "nbformat": 4,
 "nbformat_minor": 2
}
